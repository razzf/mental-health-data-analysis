{
 "cells": [
  {
   "cell_type": "markdown",
   "metadata": {},
   "source": [
    "# Data Analysis of the *Mental Health in the Tech Industry* dataset"
   ]
  },
  {
   "cell_type": "markdown",
   "metadata": {},
   "source": [
    "## *Table of contents*<a id='toc0_'></a>    \n",
    "- 1. [Introduction](#toc1_)    \n",
    "- 2. [Data preparation](#toc2_)    \n",
    "  - 2.1. [Source of the dataset and its limitations](#toc2_1_)    \n",
    "  - 2.2. [Survey Design](#toc2_2_)    \n",
    "  - 2.3. [Sampling Design](#toc2_3_)    \n",
    "  - 2.4. [Dataset documentation](#toc2_4_)    \n",
    "  - 2.5. [Limitations](#toc2_5_)    \n",
    "  - 2.6. [Downloading the dataset and reviewing meta data](#toc2_6_)    \n",
    "  - 2.7. [Backup and Load data](#toc2_7_)    \n",
    "  - 2.8. [First overview of the data](#toc2_8_)    \n",
    "- 3. [Data cleaning](#toc3_)    \n",
    "  - 3.1. [Selection of relevant features and initial cleaning via SQL](#toc3_1_)    \n",
    "    - 3.1.1. [Question availability](#toc3_1_1_)    \n",
    "    - 3.1.2. [Transform -1 to NULL](#toc3_1_2_)    \n",
    "  - 3.2. [Remove Duplicates](#toc3_2_)    \n",
    "  - 3.3. [Trim Whitespace and Standardize Text Values](#toc3_3_)    \n",
    "  - 3.4. [Data Type Conversions](#toc3_4_)    \n",
    "  - 3.5. [Final query and selection](#toc3_5_)    \n",
    "  - 3.6. [Additional data cleaning via Python](#toc3_6_)    \n",
    "    - 3.6.1. [Column and Values labelling](#toc3_6_1_)    \n",
    "    - 3.6.2. [Setting data types](#toc3_6_2_)    \n",
    "    - 3.6.3. [Outliers: identification and handling](#toc3_6_3_)    \n",
    "      - 3.6.3.1. [Rule-based method](#toc3_6_3_1_)    \n",
    "      - 3.6.3.2. [Statistical outliers](#toc3_6_3_2_)    \n",
    "      - 3.6.3.3. [Demographic: 'age'](#toc3_6_3_3_)    \n",
    "- 4. [Exploratory data analysis (EDA)](#toc4_)    \n",
    "  - 4.1. [Respondent overview](#toc4_1_)    \n",
    "  - 4.2. [Sample size](#toc4_2_)    \n",
    "  - 4.3. [Age](#toc4_3_)    \n",
    "  - 4.4. [Gender](#toc4_4_)    \n",
    "  - 4.5. [Country of residence](#toc4_5_)    \n",
    "  - 4.6. [Self-employment](#toc4_6_)    \n",
    "- 5. [Feature analysis on Mental Health Disorders](#toc5_)    \n",
    "  - 5.1. [Family history of mental illness](#toc5_1_)    \n",
    "  - 5.2. [Professional treatment for a mental health disorder](#toc5_2_)    \n",
    "    - 5.2.1. [Professional treatment sought and Gender](#toc5_2_1_)    \n",
    "    - 5.2.2. [Professional treatment sought and Age](#toc5_2_2_)    \n",
    "  - 5.3. [Mental health disorder in the past](#toc5_3_)    \n",
    "  - 5.4. [Current mental health disorder](#toc5_4_)    \n",
    "    - 5.4.1. [Current mental health disorder and Gender](#toc5_4_1_)    \n",
    "  - 5.5. [Diagnosed mental health disorder](#toc5_5_)    \n",
    "  - 5.6. [Mental health disorder: A first summary](#toc5_6_)    \n",
    "- 6. [Analysis of the prevalence rate of mental diseases](#toc6_)    \n",
    "  - 6.1. [Prevalence rate of mental diseases](#toc6_1_)    \n",
    "  - 6.2. [Gender differences in the prevalence rates of mental diseases](#toc6_2_)    \n",
    "    - 6.2.1. [Mood disorder](#toc6_2_1_)    \n",
    "    - 6.2.2. [Anxiety disorder](#toc6_2_2_)    \n",
    "    - 6.2.3. [Attention Deficit Hyperactivity Disorder](#toc6_2_3_)    \n",
    "- 7. [Suggestions for further research](#toc7_)    \n",
    "  - 7.1. [Awareness of mental health disorders in the public](#toc7_1_)    \n",
    "  - 7.2. [Mental health disorders by Age and their impact](#toc7_2_)    \n",
    "- 8. [Summary](#toc8_)    \n",
    "\n",
    "<!-- vscode-jupyter-toc-config\n",
    "\tnumbering=true\n",
    "\tanchor=true\n",
    "\tflat=false\n",
    "\tminLevel=2\n",
    "\tmaxLevel=6\n",
    "\t/vscode-jupyter-toc-config -->\n",
    "<!-- THIS CELL WILL BE REPLACED ON TOC UPDATE. DO NOT WRITE YOUR TEXT IN THIS CELL -->"
   ]
  },
  {
   "cell_type": "markdown",
   "metadata": {},
   "source": [
    "## 1. <a id='toc1_'></a>[Introduction](#toc0_)"
   ]
  },
  {
   "cell_type": "markdown",
   "metadata": {},
   "source": [
    "This project analyzes the *Mental Health in the Tech Industry* dataset, which explores the mental health challenges faced by individuals working in the Tech/IT-sector. The dataset captures responses from various surveys conducted over multiple years, focusing on factors such as mental health diagnoses, treatment, and workplace support. \n",
    "\n",
    "Through this analysis, we aim to uncover trends in the respondent's state of mental health, diagnosed diseases and examine demographic differences. The study also addresses biases and limitations related to the survey design and voluntary response nature of the data."
   ]
  },
  {
   "cell_type": "markdown",
   "metadata": {},
   "source": [
    "## 2. <a id='toc2_'></a>[Data preparation](#toc0_)"
   ]
  },
  {
   "cell_type": "markdown",
   "metadata": {},
   "source": [
    "Import necessary libraries:"
   ]
  },
  {
   "cell_type": "code",
   "execution_count": 1,
   "metadata": {},
   "outputs": [],
   "source": [
    "import matplotlib.pyplot as plt\n",
    "import numpy as np\n",
    "import pandas as pd\n",
    "from scipy.stats import chi2_contingency, ttest_ind, norm\n",
    "import seaborn as sns\n",
    "import shutil \n",
    "import sqlite3"
   ]
  },
  {
   "cell_type": "markdown",
   "metadata": {},
   "source": [
    "Hide warnings within jupyter notebook outputs:"
   ]
  },
  {
   "cell_type": "code",
   "execution_count": 2,
   "metadata": {},
   "outputs": [],
   "source": [
    "{\n",
    "    \"tags\": [\n",
    "        \"hide-input\",\n",
    "    ]\n",
    "}\n",
    "import warnings\n",
    "\n",
    "warnings.simplefilter(\"ignore\")"
   ]
  },
  {
   "cell_type": "markdown",
   "metadata": {},
   "source": [
    "### 2.1. <a id='toc2_1_'></a>[Source of the dataset and its limitations](#toc0_)"
   ]
  },
  {
   "cell_type": "markdown",
   "metadata": {},
   "source": [
    "The data is derived from the annual mental health tech industry surveys from Open Source Mental Illness (OSMI), a non-governmental institution. The original data can be accessed from OSMI website [here](https://osmihelp.org/research.html). These surveys aim to provide insights into the mental health challenges faced by employees in the technology sector."
   ]
  },
  {
   "cell_type": "markdown",
   "metadata": {},
   "source": [
    "### 2.2. <a id='toc2_2_'></a>[Survey Design](#toc0_)"
   ]
  },
  {
   "cell_type": "markdown",
   "metadata": {},
   "source": [
    "**Target population:**\n",
    "\n",
    "The surveys targets professionals working in the technology industry, including developers, engineers, designers, and other tech-related employees.\n",
    "\n",
    "**Questionnaire structure:**\n",
    "\n",
    "The survey uses a combination of quantitative and qualitative questions to assess the mental health experiences of respondents.\n",
    "\n",
    "**Survey Platform:**\n",
    "\n",
    "OSMI typically conducts these surveys online, using web-based survey tools that allow anonymity and wide distribution.\n",
    "\n"
   ]
  },
  {
   "cell_type": "markdown",
   "metadata": {},
   "source": [
    "### 2.3. <a id='toc2_3_'></a>[Sampling Design](#toc0_)"
   ]
  },
  {
   "cell_type": "markdown",
   "metadata": {},
   "source": [
    "**Sampling Method:**\n",
    "\n",
    "The surveys employ a **non-probability, voluntary response sampling method**. This means that individuals self-select to participate in the survey rather than being randomly selected. The survey is typically distributed via OSMI's network, tech communities, social media, and other relevant platforms.\n",
    "\n",
    "**Sample Size:**\n",
    "\n",
    "Sample size varies each year, but the survey generally aims to gather responses from a broad cross-section of tech industry professionals. However, because it relies on voluntary participation, there is potential for **response bias**.\n",
    "\n"
   ]
  },
  {
   "cell_type": "markdown",
   "metadata": {},
   "source": [
    "### 2.4. <a id='toc2_4_'></a>[Dataset documentation](#toc0_)"
   ]
  },
  {
   "cell_type": "markdown",
   "metadata": {},
   "source": [
    "Unfortunately, the data documentation for this dataset is very poor. Neither on Kaggle nor the OSMI website important documentation documents are available. Therefore codeframes questionnaires with a list of possible answer categories and the applied filter described are missing. This should be actually available for each survey wave. As a consequence it remains completely unclear if a question keeps the same answer categories and filters across all survey waves. Moreover, \"Skip Code\" is included in the dataset but undocumented, therefore this information must to be derived from the raw data itself via best guess.\n"
   ]
  },
  {
   "cell_type": "markdown",
   "metadata": {},
   "source": [
    "### 2.5. <a id='toc2_5_'></a>[Limitations](#toc0_)"
   ]
  },
  {
   "cell_type": "markdown",
   "metadata": {},
   "source": [
    "**Non-probability sampling:**\n",
    "\n",
    "Since the surveys use voluntary participation rather than random sampling, the results may not be fully generalizable to the entire tech industry. Certain groups may be over- or under-represented depending on their likelihood to participate.\n",
    "\n",
    "**Self-Reporting:**\n",
    "\n",
    "The reliance on self-reported data can introduce response bias, especially regarding sensitive topics like mental health. Respondents may not fully disclose their experiences due to stigma or social desirability. \n",
    "\n",
    "**No Weighting/Calibration/Post-stratification:**\n",
    "\n",
    "The data collected is not subjected to further statistical adjustments such as weighting, calibration, or post-stratification to correct for any sampling imbalances or non-representative responses. As a result, the findings reflect the raw responses of the sample, without adjustments that might align the data more closely with the broader tech industry's demographics or distribution. \n",
    "\n",
    "**Poor data documentation:**\n",
    "\n",
    "Missing essential documentation of the dataset (codeframes, survey questionnaires) leads to uncertainties in the question composition and comparability, especially when comparing answers across multiple survey waves. Best guess assumptions have to be made, while it could be avoided with a proper documentation at first hand.\n",
    "\n",
    "**Important Consequences:**\n",
    "\n",
    "The lack of probability sampling and data correction measures means that while the survey results offer valuable insights, caution should be exercised in generalizing them beyond the sample of respondents."
   ]
  },
  {
   "cell_type": "markdown",
   "metadata": {},
   "source": [
    "### 2.6. <a id='toc2_6_'></a>[Downloading the dataset and reviewing meta data](#toc0_)"
   ]
  },
  {
   "cell_type": "markdown",
   "metadata": {},
   "source": [
    "Downloading the dataset from [Kaggle here](https://www.kaggle.com/anth7310/mental-health-in-the-tech-industry)."
   ]
  },
  {
   "cell_type": "markdown",
   "metadata": {},
   "source": [
    "**Meta data** for the dataset:"
   ]
  },
  {
   "cell_type": "markdown",
   "metadata": {},
   "source": [
    "***Context***\n",
    "\n",
    "This data is from Open Source Mental Illness (OSMI) using survey data from years 2014, 2016, 2017, 2018 and 2019. The primary objective of the surveys was to assess the prevalence of mental health concerns among individuals employed in the technology sector and to gauge their attitudes toward mental health in the workplace.\n",
    "\n",
    "\n",
    "The raw data was processed using Python, SQL and Excel for cleaning and manipulation.\n",
    "\n",
    "***Content***\n",
    "\n",
    "The SQLite database contains 3 tables: `Survey`, `Question`, and `Answer`.\n",
    "\n",
    "- `Survey`: (PRIMARY KEY INT `SurveyID`, TEXT `Description`) \n",
    "- `Question` (PRIMARY KEY `QuestionID`, TEXT `QuestionText`) \n",
    "- `Answer` (PRIMARY/FOREIGN KEY `SurveyID`, PRIMARY KEY `UserID`, PRIMARY/FOREIGN KEY `QuestionID`, TEXT `AnswerText`)\n",
    "\n",
    "`SuveyID` are simply survey year ie 2014, 2016, 2017, 2018, 2019. The same question can be used for multiple surveys. `Answer` table is a composite table with multiple primary keys. `SurveyID` and `QuestionID` are FOREIGN KEYS. Some questions can contain multiple answers, thus the same user can appear more than once for that `QuestionID`."
   ]
  },
  {
   "cell_type": "markdown",
   "metadata": {},
   "source": [
    "### 2.7. <a id='toc2_7_'></a>[Backup and Load data](#toc0_)"
   ]
  },
  {
   "cell_type": "markdown",
   "metadata": {},
   "source": [
    "We want to backup the database file first, since we have to manipulate the file during the data cleaning process:"
   ]
  },
  {
   "cell_type": "code",
   "execution_count": 3,
   "metadata": {},
   "outputs": [
    {
     "data": {
      "text/plain": [
       "'./data/mental_health_(working_copy).sqlite'"
      ]
     },
     "execution_count": 3,
     "metadata": {},
     "output_type": "execute_result"
    }
   ],
   "source": [
    "original_db_path = './data/mental_health.sqlite'\n",
    "copied_db_path = './data/mental_health_(working_copy).sqlite'\n",
    "\n",
    "shutil.copy(original_db_path, copied_db_path)"
   ]
  },
  {
   "cell_type": "markdown",
   "metadata": {},
   "source": [
    "Then we are establishing a sqlite3 connection to the working copy of the dataset file on which we can run our SQL queries:"
   ]
  },
  {
   "cell_type": "code",
   "execution_count": 4,
   "metadata": {},
   "outputs": [],
   "source": [
    "connection = sqlite3.connect(copied_db_path)\n",
    "cursor = connection.cursor()"
   ]
  },
  {
   "cell_type": "markdown",
   "metadata": {},
   "source": [
    "Throughout the analysis we will retrieve data via SQL queries from the dataset file using the connection. As an alternative we could retrieve the full dataset, arrange and store it into a dataframe. However, it would unnecessarily increase the processing time and memory required, since not all features (columns) might be of interest. Moreover, for particular analysis steps, just certain columns and rows are required. Therefore the data retrieving \"on-the-fly\" is the better solution."
   ]
  },
  {
   "cell_type": "markdown",
   "metadata": {},
   "source": [
    "### 2.8. <a id='toc2_8_'></a>[First overview of the data](#toc0_)"
   ]
  },
  {
   "cell_type": "markdown",
   "metadata": {},
   "source": [
    "Firstly, we want to get a glimpse of the raw data before we retrieve it. \n",
    "\n",
    "We want to see how many respondents participated in each of the five survey waves:"
   ]
  },
  {
   "cell_type": "code",
   "execution_count": 5,
   "metadata": {},
   "outputs": [
    {
     "data": {
      "text/html": [
       "<div>\n",
       "<style scoped>\n",
       "    .dataframe tbody tr th:only-of-type {\n",
       "        vertical-align: middle;\n",
       "    }\n",
       "\n",
       "    .dataframe tbody tr th {\n",
       "        vertical-align: top;\n",
       "    }\n",
       "\n",
       "    .dataframe thead th {\n",
       "        text-align: right;\n",
       "    }\n",
       "</style>\n",
       "<table border=\"1\" class=\"dataframe\">\n",
       "  <thead>\n",
       "    <tr style=\"text-align: right;\">\n",
       "      <th></th>\n",
       "      <th>survey_year</th>\n",
       "      <th>number_of_respondents</th>\n",
       "    </tr>\n",
       "  </thead>\n",
       "  <tbody>\n",
       "    <tr>\n",
       "      <th>0</th>\n",
       "      <td>2014</td>\n",
       "      <td>1260</td>\n",
       "    </tr>\n",
       "    <tr>\n",
       "      <th>1</th>\n",
       "      <td>2016</td>\n",
       "      <td>1433</td>\n",
       "    </tr>\n",
       "    <tr>\n",
       "      <th>2</th>\n",
       "      <td>2017</td>\n",
       "      <td>756</td>\n",
       "    </tr>\n",
       "    <tr>\n",
       "      <th>3</th>\n",
       "      <td>2018</td>\n",
       "      <td>417</td>\n",
       "    </tr>\n",
       "    <tr>\n",
       "      <th>4</th>\n",
       "      <td>2019</td>\n",
       "      <td>352</td>\n",
       "    </tr>\n",
       "  </tbody>\n",
       "</table>\n",
       "</div>"
      ],
      "text/plain": [
       "   survey_year  number_of_respondents\n",
       "0         2014                   1260\n",
       "1         2016                   1433\n",
       "2         2017                    756\n",
       "3         2018                    417\n",
       "4         2019                    352"
      ]
     },
     "execution_count": 5,
     "metadata": {},
     "output_type": "execute_result"
    }
   ],
   "source": [
    "rows = cursor.execute(\n",
    "    \"\"\"\n",
    "    SELECT surveyid survey_year, COUNT(DISTINCT(userid)) number_of_respondents\n",
    "    FROM answer \n",
    "    GROUP BY 1;\n",
    "    \"\"\"\n",
    ").fetchall()\n",
    "\n",
    "def cursor_to_df():\n",
    "    return pd.DataFrame(rows, columns=[description[0] for description in cursor.description])\n",
    "\n",
    "df_survey = cursor_to_df()\n",
    "df_survey"
   ]
  },
  {
   "cell_type": "markdown",
   "metadata": {},
   "source": [
    "The table above shows that the number of participants varies strongly between the five years the survey was conducted. Peaking at 1433 respondents in 2016, the number has continuously dropped since and landing with only 352 participants in 2019. This has implications on the comparability of the results across the survey years and further questions the sample distributions and once more emphasizes the threat of an underlying **response bias**."
   ]
  },
  {
   "cell_type": "markdown",
   "metadata": {},
   "source": [
    "As next, we want to see how many questions are covered in each of the survey waves:"
   ]
  },
  {
   "cell_type": "code",
   "execution_count": 6,
   "metadata": {},
   "outputs": [
    {
     "data": {
      "text/html": [
       "<div>\n",
       "<style scoped>\n",
       "    .dataframe tbody tr th:only-of-type {\n",
       "        vertical-align: middle;\n",
       "    }\n",
       "\n",
       "    .dataframe tbody tr th {\n",
       "        vertical-align: top;\n",
       "    }\n",
       "\n",
       "    .dataframe thead th {\n",
       "        text-align: right;\n",
       "    }\n",
       "</style>\n",
       "<table border=\"1\" class=\"dataframe\">\n",
       "  <thead>\n",
       "    <tr style=\"text-align: right;\">\n",
       "      <th></th>\n",
       "      <th>survey_year</th>\n",
       "      <th>number_of_questions</th>\n",
       "    </tr>\n",
       "  </thead>\n",
       "  <tbody>\n",
       "    <tr>\n",
       "      <th>0</th>\n",
       "      <td>2014</td>\n",
       "      <td>26</td>\n",
       "    </tr>\n",
       "    <tr>\n",
       "      <th>1</th>\n",
       "      <td>2016</td>\n",
       "      <td>60</td>\n",
       "    </tr>\n",
       "    <tr>\n",
       "      <th>2</th>\n",
       "      <td>2017</td>\n",
       "      <td>76</td>\n",
       "    </tr>\n",
       "    <tr>\n",
       "      <th>3</th>\n",
       "      <td>2018</td>\n",
       "      <td>76</td>\n",
       "    </tr>\n",
       "    <tr>\n",
       "      <th>4</th>\n",
       "      <td>2019</td>\n",
       "      <td>76</td>\n",
       "    </tr>\n",
       "  </tbody>\n",
       "</table>\n",
       "</div>"
      ],
      "text/plain": [
       "   survey_year  number_of_questions\n",
       "0         2014                   26\n",
       "1         2016                   60\n",
       "2         2017                   76\n",
       "3         2018                   76\n",
       "4         2019                   76"
      ]
     },
     "execution_count": 6,
     "metadata": {},
     "output_type": "execute_result"
    }
   ],
   "source": [
    "rows = cursor.execute(\n",
    "    \"\"\"\n",
    "    SELECT surveyid survey_year, COUNT(DISTINCT(questionid)) number_of_questions\n",
    "    FROM answer\n",
    "    GROUP BY 1;\n",
    "    \"\"\"\n",
    ").fetchall()\n",
    "\n",
    "cursor_to_df()"
   ]
  },
  {
   "cell_type": "markdown",
   "metadata": {},
   "source": [
    "The table above shows that the number of questions increased since 2014, with the same number of questions for 2017, 2018 and 2019."
   ]
  },
  {
   "cell_type": "markdown",
   "metadata": {},
   "source": [
    "The next query results in an overview of all questions asked across the whole dataset:"
   ]
  },
  {
   "cell_type": "code",
   "execution_count": 7,
   "metadata": {},
   "outputs": [
    {
     "data": {
      "text/html": [
       "<div>\n",
       "<style scoped>\n",
       "    .dataframe tbody tr th:only-of-type {\n",
       "        vertical-align: middle;\n",
       "    }\n",
       "\n",
       "    .dataframe tbody tr th {\n",
       "        vertical-align: top;\n",
       "    }\n",
       "\n",
       "    .dataframe thead th {\n",
       "        text-align: right;\n",
       "    }\n",
       "</style>\n",
       "<table border=\"1\" class=\"dataframe\">\n",
       "  <thead>\n",
       "    <tr style=\"text-align: right;\">\n",
       "      <th></th>\n",
       "      <th>questionid</th>\n",
       "      <th>questiontext</th>\n",
       "      <th>2014_respondents</th>\n",
       "      <th>2014_responses</th>\n",
       "      <th>2016_respondents</th>\n",
       "      <th>2016_responses</th>\n",
       "      <th>2017_respondents</th>\n",
       "      <th>2017_responses</th>\n",
       "      <th>2018_respondents</th>\n",
       "      <th>2018_responses</th>\n",
       "      <th>2019_respondents</th>\n",
       "      <th>2019_responses</th>\n",
       "    </tr>\n",
       "  </thead>\n",
       "  <tbody>\n",
       "    <tr>\n",
       "      <th>0</th>\n",
       "      <td>1</td>\n",
       "      <td>What is your age?</td>\n",
       "      <td>1260</td>\n",
       "      <td>1260</td>\n",
       "      <td>1433</td>\n",
       "      <td>1433</td>\n",
       "      <td>756</td>\n",
       "      <td>756</td>\n",
       "      <td>417</td>\n",
       "      <td>417</td>\n",
       "      <td>352</td>\n",
       "      <td>352</td>\n",
       "    </tr>\n",
       "    <tr>\n",
       "      <th>1</th>\n",
       "      <td>2</td>\n",
       "      <td>What is your gender?</td>\n",
       "      <td>1260</td>\n",
       "      <td>1260</td>\n",
       "      <td>1433</td>\n",
       "      <td>1433</td>\n",
       "      <td>756</td>\n",
       "      <td>756</td>\n",
       "      <td>417</td>\n",
       "      <td>417</td>\n",
       "      <td>352</td>\n",
       "      <td>352</td>\n",
       "    </tr>\n",
       "    <tr>\n",
       "      <th>2</th>\n",
       "      <td>3</td>\n",
       "      <td>What country do you live in?</td>\n",
       "      <td>1260</td>\n",
       "      <td>1260</td>\n",
       "      <td>1433</td>\n",
       "      <td>1433</td>\n",
       "      <td>756</td>\n",
       "      <td>756</td>\n",
       "      <td>417</td>\n",
       "      <td>417</td>\n",
       "      <td>352</td>\n",
       "      <td>352</td>\n",
       "    </tr>\n",
       "    <tr>\n",
       "      <th>3</th>\n",
       "      <td>4</td>\n",
       "      <td>If you live in the United States, which state ...</td>\n",
       "      <td>1260</td>\n",
       "      <td>1260</td>\n",
       "      <td>1433</td>\n",
       "      <td>1433</td>\n",
       "      <td>756</td>\n",
       "      <td>756</td>\n",
       "      <td>417</td>\n",
       "      <td>417</td>\n",
       "      <td>352</td>\n",
       "      <td>352</td>\n",
       "    </tr>\n",
       "    <tr>\n",
       "      <th>4</th>\n",
       "      <td>5</td>\n",
       "      <td>Are you self-employed?</td>\n",
       "      <td>1260</td>\n",
       "      <td>1260</td>\n",
       "      <td>1433</td>\n",
       "      <td>1433</td>\n",
       "      <td>756</td>\n",
       "      <td>756</td>\n",
       "      <td>417</td>\n",
       "      <td>417</td>\n",
       "      <td>352</td>\n",
       "      <td>352</td>\n",
       "    </tr>\n",
       "  </tbody>\n",
       "</table>\n",
       "</div>"
      ],
      "text/plain": [
       "   questionid                                       questiontext  \\\n",
       "0           1                                  What is your age?   \n",
       "1           2                               What is your gender?   \n",
       "2           3                       What country do you live in?   \n",
       "3           4  If you live in the United States, which state ...   \n",
       "4           5                             Are you self-employed?   \n",
       "\n",
       "   2014_respondents  2014_responses  2016_respondents  2016_responses  \\\n",
       "0              1260            1260              1433            1433   \n",
       "1              1260            1260              1433            1433   \n",
       "2              1260            1260              1433            1433   \n",
       "3              1260            1260              1433            1433   \n",
       "4              1260            1260              1433            1433   \n",
       "\n",
       "   2017_respondents  2017_responses  2018_respondents  2018_responses  \\\n",
       "0               756             756               417             417   \n",
       "1               756             756               417             417   \n",
       "2               756             756               417             417   \n",
       "3               756             756               417             417   \n",
       "4               756             756               417             417   \n",
       "\n",
       "   2019_respondents  2019_responses  \n",
       "0               352             352  \n",
       "1               352             352  \n",
       "2               352             352  \n",
       "3               352             352  \n",
       "4               352             352  "
      ]
     },
     "execution_count": 7,
     "metadata": {},
     "output_type": "execute_result"
    }
   ],
   "source": [
    "rows = cursor.execute(\n",
    "    \"\"\"\n",
    "    SELECT\n",
    "        q.questionid,\n",
    "        q.questiontext,\n",
    "        NULLIF(COUNT(DISTINCT CASE WHEN a.surveyid = 2014 THEN a.userid ELSE NULL END), 0) AS \"2014_respondents\",\n",
    "        SUM(CASE WHEN a.surveyid = 2014 THEN 1 ELSE NULL END) AS \"2014_responses\",\n",
    "        NULLIF(COUNT(DISTINCT CASE WHEN a.surveyid = 2016 THEN a.userid ELSE NULL END), 0) AS \"2016_respondents\",\n",
    "        SUM(CASE WHEN a.surveyid = 2016 THEN 1 ELSE NULL END) AS \"2016_responses\",\n",
    "        NULLIF(COUNT(DISTINCT CASE WHEN a.surveyid = 2017 THEN a.userid ELSE NULL END), 0) AS \"2017_respondents\",\n",
    "        SUM(CASE WHEN a.surveyid = 2017 THEN 1 ELSE NULL END) AS \"2017_responses\",\n",
    "        NULLIF(COUNT(DISTINCT CASE WHEN a.surveyid = 2018 THEN a.userid ELSE NULL END), 0) AS \"2018_respondents\",\n",
    "        SUM(CASE WHEN a.surveyid = 2018 THEN 1 ELSE NULL END) AS \"2018_responses\",\n",
    "        NULLIF(COUNT(DISTINCT CASE WHEN a.surveyid = 2019 THEN a.userid ELSE NULL END), 0) AS \"2019_respondents\",\n",
    "        SUM(CASE WHEN a.surveyid = 2019 THEN 1 ELSE NULL END) AS \"2019_responses\"\n",
    "    FROM\n",
    "        answer a\n",
    "    JOIN\n",
    "        question q ON q.questionid = a.questionid\n",
    "    GROUP BY\n",
    "        1,2\n",
    "    \"\"\"\n",
    ").fetchall()\n",
    "\n",
    "df = cursor_to_df()\n",
    "\n",
    "df[\"2014_respondents\"] = df[\"2014_respondents\"].astype(\"Int64\")\n",
    "df[\"2014_responses\"] = df[\"2014_responses\"].astype(\"Int64\")\n",
    "df[\"2016_respondents\"] = df[\"2016_respondents\"].astype(\"Int64\")\n",
    "df[\"2016_responses\"] = df[\"2016_responses\"].astype(\"Int64\")\n",
    "df[\"2017_respondents\"] = df[\"2017_respondents\"].astype(\"Int64\")\n",
    "df[\"2017_responses\"] = df[\"2017_responses\"].astype(\"Int64\")\n",
    "df[\"2018_respondents\"] = df[\"2018_respondents\"].astype(\"Int64\")\n",
    "df[\"2018_responses\"] = df[\"2018_responses\"].astype(\"Int64\")\n",
    "df[\"2019_respondents\"] = df[\"2019_respondents\"].astype(\"Int64\")\n",
    "df[\"2019_responses\"] = df[\"2019_responses\"].astype(\"Int64\")\n",
    "\n",
    "df.head()"
   ]
  },
  {
   "cell_type": "markdown",
   "metadata": {},
   "source": [
    "From the above table we can see that in total 105 questions where asked across the five survey waves. Not all questions were asked in all surveys. Moreover, there are multi-response questions were respondents could answer multiple times. This is possible to see when the responses for a specific year exceeds the number of respondents:"
   ]
  },
  {
   "cell_type": "code",
   "execution_count": 8,
   "metadata": {},
   "outputs": [
    {
     "data": {
      "text/html": [
       "<div>\n",
       "<style scoped>\n",
       "    .dataframe tbody tr th:only-of-type {\n",
       "        vertical-align: middle;\n",
       "    }\n",
       "\n",
       "    .dataframe tbody tr th {\n",
       "        vertical-align: top;\n",
       "    }\n",
       "\n",
       "    .dataframe thead th {\n",
       "        text-align: right;\n",
       "    }\n",
       "</style>\n",
       "<table border=\"1\" class=\"dataframe\">\n",
       "  <thead>\n",
       "    <tr style=\"text-align: right;\">\n",
       "      <th></th>\n",
       "      <th>questionid</th>\n",
       "      <th>questiontext</th>\n",
       "      <th>2014_respondents</th>\n",
       "      <th>2014_responses</th>\n",
       "      <th>2016_respondents</th>\n",
       "      <th>2016_responses</th>\n",
       "      <th>2017_respondents</th>\n",
       "      <th>2017_responses</th>\n",
       "      <th>2018_respondents</th>\n",
       "      <th>2018_responses</th>\n",
       "      <th>2019_respondents</th>\n",
       "      <th>2019_responses</th>\n",
       "    </tr>\n",
       "  </thead>\n",
       "  <tbody>\n",
       "    <tr>\n",
       "      <th>101</th>\n",
       "      <td>115</td>\n",
       "      <td>If yes, what condition(s) have you been diagno...</td>\n",
       "      <td>&lt;NA&gt;</td>\n",
       "      <td>&lt;NA&gt;</td>\n",
       "      <td>1433</td>\n",
       "      <td>2072</td>\n",
       "      <td>&lt;NA&gt;</td>\n",
       "      <td>&lt;NA&gt;</td>\n",
       "      <td>&lt;NA&gt;</td>\n",
       "      <td>&lt;NA&gt;</td>\n",
       "      <td>&lt;NA&gt;</td>\n",
       "      <td>&lt;NA&gt;</td>\n",
       "    </tr>\n",
       "    <tr>\n",
       "      <th>102</th>\n",
       "      <td>116</td>\n",
       "      <td>If maybe, what condition(s) do you believe you...</td>\n",
       "      <td>&lt;NA&gt;</td>\n",
       "      <td>&lt;NA&gt;</td>\n",
       "      <td>1433</td>\n",
       "      <td>1793</td>\n",
       "      <td>&lt;NA&gt;</td>\n",
       "      <td>&lt;NA&gt;</td>\n",
       "      <td>&lt;NA&gt;</td>\n",
       "      <td>&lt;NA&gt;</td>\n",
       "      <td>&lt;NA&gt;</td>\n",
       "      <td>&lt;NA&gt;</td>\n",
       "    </tr>\n",
       "    <tr>\n",
       "      <th>103</th>\n",
       "      <td>117</td>\n",
       "      <td>Which of the following best describes your wor...</td>\n",
       "      <td>&lt;NA&gt;</td>\n",
       "      <td>&lt;NA&gt;</td>\n",
       "      <td>1433</td>\n",
       "      <td>2692</td>\n",
       "      <td>&lt;NA&gt;</td>\n",
       "      <td>&lt;NA&gt;</td>\n",
       "      <td>&lt;NA&gt;</td>\n",
       "      <td>&lt;NA&gt;</td>\n",
       "      <td>&lt;NA&gt;</td>\n",
       "      <td>&lt;NA&gt;</td>\n",
       "    </tr>\n",
       "  </tbody>\n",
       "</table>\n",
       "</div>"
      ],
      "text/plain": [
       "     questionid                                       questiontext  \\\n",
       "101         115  If yes, what condition(s) have you been diagno...   \n",
       "102         116  If maybe, what condition(s) do you believe you...   \n",
       "103         117  Which of the following best describes your wor...   \n",
       "\n",
       "     2014_respondents  2014_responses  2016_respondents  2016_responses  \\\n",
       "101              <NA>            <NA>              1433            2072   \n",
       "102              <NA>            <NA>              1433            1793   \n",
       "103              <NA>            <NA>              1433            2692   \n",
       "\n",
       "     2017_respondents  2017_responses  2018_respondents  2018_responses  \\\n",
       "101              <NA>            <NA>              <NA>            <NA>   \n",
       "102              <NA>            <NA>              <NA>            <NA>   \n",
       "103              <NA>            <NA>              <NA>            <NA>   \n",
       "\n",
       "     2019_respondents  2019_responses  \n",
       "101              <NA>            <NA>  \n",
       "102              <NA>            <NA>  \n",
       "103              <NA>            <NA>  "
      ]
     },
     "execution_count": 8,
     "metadata": {},
     "output_type": "execute_result"
    }
   ],
   "source": [
    "df[\n",
    "    (df[\"2014_respondents\"] < df[\"2014_responses\"])\n",
    "    | (df[\"2016_respondents\"] < df[\"2016_responses\"])\n",
    "    | (df[\"2017_respondents\"] < df[\"2017_responses\"])\n",
    "    | (df[\"2018_respondents\"] < df[\"2018_responses\"])\n",
    "    | (df[\"2019_respondents\"] < df[\"2019_responses\"])\n",
    "]"
   ]
  },
  {
   "cell_type": "markdown",
   "metadata": {},
   "source": [
    "The three questions with ID 115, 116 and 117 are the only Multi Response questions in the dataset.\n",
    "\n",
    "- QuestionID 115: \"If yes, what condition(s) have you been diagnosed with?\"\n",
    "- QuestionID 116: \"If maybe, what condition(s) do you believe you have?\"\n",
    "- QuestionID 117: \"Which of the following best describes your work position?\"\n"
   ]
  },
  {
   "cell_type": "markdown",
   "metadata": {},
   "source": [
    "While at first glance it looks like there were no question filter applied (all questions answered by all respondents in the respective survey wave), a closer look reveals a different picture:"
   ]
  },
  {
   "cell_type": "code",
   "execution_count": 9,
   "metadata": {},
   "outputs": [
    {
     "data": {
      "text/html": [
       "<div>\n",
       "<style scoped>\n",
       "    .dataframe tbody tr th:only-of-type {\n",
       "        vertical-align: middle;\n",
       "    }\n",
       "\n",
       "    .dataframe tbody tr th {\n",
       "        vertical-align: top;\n",
       "    }\n",
       "\n",
       "    .dataframe thead th {\n",
       "        text-align: right;\n",
       "    }\n",
       "</style>\n",
       "<table border=\"1\" class=\"dataframe\">\n",
       "  <thead>\n",
       "    <tr style=\"text-align: right;\">\n",
       "      <th></th>\n",
       "      <th>Question54_Answer</th>\n",
       "      <th>Question55_Answer</th>\n",
       "      <th>AnswerCount</th>\n",
       "    </tr>\n",
       "  </thead>\n",
       "  <tbody>\n",
       "    <tr>\n",
       "      <th>0</th>\n",
       "      <td>-1</td>\n",
       "      <td>-1</td>\n",
       "      <td>2454</td>\n",
       "    </tr>\n",
       "    <tr>\n",
       "      <th>1</th>\n",
       "      <td>No</td>\n",
       "      <td>-1</td>\n",
       "      <td>26</td>\n",
       "    </tr>\n",
       "    <tr>\n",
       "      <th>2</th>\n",
       "      <td>Not applicable to me</td>\n",
       "      <td>-1</td>\n",
       "      <td>51</td>\n",
       "    </tr>\n",
       "    <tr>\n",
       "      <th>3</th>\n",
       "      <td>Unsure</td>\n",
       "      <td>-1</td>\n",
       "      <td>60</td>\n",
       "    </tr>\n",
       "    <tr>\n",
       "      <th>4</th>\n",
       "      <td>Yes</td>\n",
       "      <td>1-25%</td>\n",
       "      <td>164</td>\n",
       "    </tr>\n",
       "    <tr>\n",
       "      <th>5</th>\n",
       "      <td>Yes</td>\n",
       "      <td>26-50%</td>\n",
       "      <td>125</td>\n",
       "    </tr>\n",
       "    <tr>\n",
       "      <th>6</th>\n",
       "      <td>Yes</td>\n",
       "      <td>51-75%</td>\n",
       "      <td>53</td>\n",
       "    </tr>\n",
       "    <tr>\n",
       "      <th>7</th>\n",
       "      <td>Yes</td>\n",
       "      <td>76-100%</td>\n",
       "      <td>25</td>\n",
       "    </tr>\n",
       "  </tbody>\n",
       "</table>\n",
       "</div>"
      ],
      "text/plain": [
       "      Question54_Answer Question55_Answer  AnswerCount\n",
       "0                    -1                -1         2454\n",
       "1                    No                -1           26\n",
       "2  Not applicable to me                -1           51\n",
       "3                Unsure                -1           60\n",
       "4                   Yes             1-25%          164\n",
       "5                   Yes            26-50%          125\n",
       "6                   Yes            51-75%           53\n",
       "7                   Yes           76-100%           25"
      ]
     },
     "execution_count": 9,
     "metadata": {},
     "output_type": "execute_result"
    }
   ],
   "source": [
    "rows = cursor.execute(\n",
    "    \"\"\"\n",
    "    SELECT \n",
    "    a54.AnswerText AS Question54_Answer,\n",
    "    a55.AnswerText AS Question55_Answer,\n",
    "    COUNT(a55.AnswerText) AS AnswerCount\n",
    "    FROM Answer a55\n",
    "    JOIN Question q55 ON a55.QuestionID = q55.QuestionID\n",
    "    JOIN Answer a54 ON a54.UserID = a55.UserID AND a54.QuestionID = 54\n",
    "    JOIN Question q54 ON a54.QuestionID = q54.QuestionID\n",
    "    WHERE q55.QuestionID = 55\n",
    "    GROUP BY 1,2\n",
    "    ORDER BY 1,2;\n",
    "    \"\"\"\n",
    ").fetchall()\n",
    "\n",
    "cursor_to_df()"
   ]
  },
  {
   "cell_type": "markdown",
   "metadata": {},
   "source": [
    "- QuestionID 54: \"Do you believe your productivity is ever affected by a mental health issue?\"\n",
    "- QuestionID 55: \"If yes, what percentage of your work time (time performing primary or secondary job functions) is affected by a mental health issue?\""
   ]
  },
  {
   "cell_type": "markdown",
   "metadata": {},
   "source": [
    "The answers to questions 54 and 55 above show, that in fact filters were (correctly) applied. If a question was not asked the value of its answer is \"-1\". The above example shows that only if Question 54 was answered \"Yes\", the subsequent question 55 was asked. Question 55 itself was also filtered, as shown on existing answer values of \"-1\". \n",
    "\n",
    "This finding must be taken into consideration when analyzing data further. Best practice is to transform \"-1\" values into NaN or NA during the data cleaning process."
   ]
  },
  {
   "cell_type": "markdown",
   "metadata": {},
   "source": [
    "## 3. <a id='toc3_'></a>[Data cleaning](#toc0_)"
   ]
  },
  {
   "cell_type": "markdown",
   "metadata": {},
   "source": [
    "Before analysing the data, the data cleansing process must deal with setting the data type, handling missing values, deduplicating samples and characteristics and identifying and processing outliers."
   ]
  },
  {
   "cell_type": "markdown",
   "metadata": {},
   "source": [
    "### 3.1. <a id='toc3_1_'></a>[Selection of relevant features and initial cleaning via SQL](#toc0_)"
   ]
  },
  {
   "cell_type": "markdown",
   "metadata": {},
   "source": [
    "But before starting with those data cleaning steps, it would be necessary find and select the relevant questions across the 105 questions in total. Just by knowing them, we can start cleaning, since it would be a bold venture to clean all in detail despite the fact that we won't need all of them.\n",
    "\n",
    "Moreover, it would be interesting to divide them into *demographic background questions* and possible *features* that can be analysed. This division also follows the logic of *independent* (demographics) and *dependent* (features) variables, which later drives the analysis. \n",
    "\n",
    "We will export the following overview of questions into an external Excel file:"
   ]
  },
  {
   "cell_type": "code",
   "execution_count": 10,
   "metadata": {},
   "outputs": [],
   "source": [
    "rows = cursor.execute(\n",
    "    \"\"\"\n",
    "    SELECT\n",
    "        q.questionid,\n",
    "        q.questiontext,\n",
    "        MAX(CASE WHEN a.surveyid = 2014 THEN 1 ELSE 0 END) AS \"2014\",\n",
    "        MAX(CASE WHEN a.surveyid = 2016 THEN 1 ELSE 0 END) AS \"2016\",\n",
    "        MAX(CASE WHEN a.surveyid = 2017 THEN 1 ELSE 0 END) AS \"2017\",\n",
    "        MAX(CASE WHEN a.surveyid = 2018 THEN 1 ELSE 0 END) AS \"2018\",\n",
    "        MAX(CASE WHEN a.surveyid = 2019 THEN 1 ELSE 0 END) AS \"2019\"\n",
    "    FROM\n",
    "        answer a\n",
    "    JOIN\n",
    "        question q ON q.questionid = a.questionid\n",
    "    GROUP BY\n",
    "        1,2\n",
    "    \"\"\"\n",
    ").fetchall()\n",
    "\n",
    "df = cursor_to_df()\n",
    "df.to_excel(\"question_overview.xlsx\", index=False)"
   ]
  },
  {
   "cell_type": "markdown",
   "metadata": {},
   "source": [
    "The resulting Excel file creates the working environment in which we go through all question texts, in order to decide their relevance for further analyses and to divide them into the *type of question* (demographics vs. feature)."
   ]
  },
  {
   "cell_type": "markdown",
   "metadata": {},
   "source": [
    "#### 3.1.1. <a id='toc3_1_1_'></a>[Question availability](#toc0_)"
   ]
  },
  {
   "cell_type": "markdown",
   "metadata": {},
   "source": [
    "After scanning the question overview we can note that there are many questions which are only part of a particular survey wave questionnaire and therefore not avaibale for all years. Survey waves in 2014 and 2015 have such exclusive questions, which are consequently not comparable across time. \n",
    "\n",
    "Besides 11 demographic questions only one feature (questionid 12) is available across all five survey waves. There are 31 features which are available for the survey waves 2016 to 2019 and another 96 features which are available for the survey waves 2017 to 2019. This limitation of comparable questions and the lack of relevant features identified in the 2014 questions lead to the **decision to disregard 2014 data from further analysis**. However, the EDA on demographic questions was still performed on 2014 data for particular reasons (supporting evidence of response bias). 2016 data is generally included in further analyses, if the particular feature is available. If a feature is not or exclusively available in the 2016 data, this circumstance is highlighted in the particular analysis part."
   ]
  },
  {
   "cell_type": "markdown",
   "metadata": {},
   "source": [
    "#### 3.1.2. <a id='toc3_1_2_'></a>[Transform -1 to NULL](#toc0_)"
   ]
  },
  {
   "cell_type": "markdown",
   "metadata": {},
   "source": [
    "The dataset includes NULL values coded as \"-1\". This makes it difficult for further analyses and therefore we transform them accordingly into NULL values (which are consequently read by Python Pandas as \"None\" values within the dataframe):"
   ]
  },
  {
   "cell_type": "code",
   "execution_count": 11,
   "metadata": {},
   "outputs": [],
   "source": [
    "cursor.execute(\"PRAGMA table_info(answer);\")\n",
    "columns = [row[1] for row in cursor.fetchall()]\n",
    "\n",
    "for column in columns:\n",
    "    cursor.execute(f\"UPDATE answer SET {column} = NULL WHERE {column} = -1;\")\n",
    "    cursor.execute(f\"UPDATE answer SET {column} = NULL WHERE {column} = 'NaN';\")\n",
    "\n",
    "connection.commit()"
   ]
  },
  {
   "cell_type": "markdown",
   "metadata": {},
   "source": [
    "### 3.2. <a id='toc3_2_'></a>[Remove Duplicates](#toc0_)"
   ]
  },
  {
   "cell_type": "markdown",
   "metadata": {},
   "source": [
    "The dataset might have duplicated rows included. We want to drop such duplicates in the table `answer` with the following code, that also shows the number of rows in the table before and after the duplication:"
   ]
  },
  {
   "cell_type": "code",
   "execution_count": 12,
   "metadata": {},
   "outputs": [
    {
     "name": "stdout",
     "output_type": "stream",
     "text": [
      "Original Row Count: 236898\n",
      "Unique Row Count: 236898\n"
     ]
    }
   ],
   "source": [
    "cursor.execute(\"SELECT COUNT(*) AS original_row_count FROM answer;\")\n",
    "original_count = cursor.fetchone()[0]\n",
    "\n",
    "cursor.execute(\n",
    "    \"\"\"\n",
    "    CREATE TABLE unique_answer AS\n",
    "    SELECT DISTINCT *\n",
    "    FROM answer; \n",
    "\"\"\"\n",
    ")\n",
    "\n",
    "cursor.execute(\"SELECT COUNT(*) AS unique_row_count FROM unique_answer;\")\n",
    "unique_count = cursor.fetchone()[0]\n",
    "\n",
    "cursor.execute(\"DROP TABLE answer;\")\n",
    "cursor.execute(\"ALTER TABLE unique_answer RENAME TO answer;\")\n",
    "\n",
    "print(f\"Original Row Count: {original_count}\")\n",
    "print(f\"Unique Row Count: {unique_count}\")\n",
    "\n",
    "connection.commit()"
   ]
  },
  {
   "cell_type": "markdown",
   "metadata": {},
   "source": [
    "Consequently no duplicates were detected. \n",
    "\n",
    "However, please note that this approach simply compares all values of a given row with all values of another row. If a single character differs in any value, it is not identified as a duplicate. More sophisticated approaches can be derived with Python but won't be applied here."
   ]
  },
  {
   "cell_type": "markdown",
   "metadata": {},
   "source": [
    "### 3.3. <a id='toc3_3_'></a>[Trim Whitespace and Standardize Text Values](#toc0_)"
   ]
  },
  {
   "cell_type": "markdown",
   "metadata": {},
   "source": [
    "Due to mistrust in the data cleaning approaches already applied prior downloading the present dataset, we want to ensure consistency in answer categories. Therefore we trim and standardize text values. The following code transforms all values in the columns of datatype TEXT into lowercased characters and trims any leading or trailing whitespace:"
   ]
  },
  {
   "cell_type": "code",
   "execution_count": 13,
   "metadata": {},
   "outputs": [],
   "source": [
    "cursor.execute(\"PRAGMA table_info(answer);\")\n",
    "columns = cursor.fetchall()\n",
    "\n",
    "text_columns = [col[1] for col in columns if col[2] == \"TEXT\"]\n",
    "\n",
    "update_query = \"UPDATE answer SET \" + \", \".join(\n",
    "    [f\"{col} = LOWER(TRIM({col}))\" for col in text_columns]\n",
    ")\n",
    "\n",
    "cursor.execute(update_query)\n",
    "connection.commit()"
   ]
  },
  {
   "cell_type": "markdown",
   "metadata": {},
   "source": [
    "### 3.4. <a id='toc3_4_'></a>[Data Type Conversions](#toc0_)"
   ]
  },
  {
   "cell_type": "markdown",
   "metadata": {},
   "source": [
    "The majority of columns seem to be of type TEXT but we want to be sure about it:"
   ]
  },
  {
   "cell_type": "code",
   "execution_count": 14,
   "metadata": {},
   "outputs": [
    {
     "name": "stdout",
     "output_type": "stream",
     "text": [
      "Columns with non-TEXT data types:\n",
      "Column: SurveyID, Type: INT\n",
      "Column: UserID, Type: INT\n",
      "Column: QuestionID, Type: INT\n"
     ]
    }
   ],
   "source": [
    "cursor.execute(\"PRAGMA table_info(answer);\")\n",
    "columns = cursor.fetchall()\n",
    "\n",
    "non_text_columns = [(col[1], col[2]) for col in columns if col[2] != \"TEXT\"]\n",
    "\n",
    "if non_text_columns:\n",
    "    print(\"Columns with non-TEXT data types:\")\n",
    "    for name, dtype in non_text_columns:\n",
    "        print(f\"Column: {name}, Type: {dtype}\")\n",
    "else:\n",
    "    print(\"All columns are of TEXT type.\")"
   ]
  },
  {
   "cell_type": "markdown",
   "metadata": {},
   "source": [
    "After reviewing the question overview only one relevant question was identified as being mistakenly of datatype TEXT. *QuestionID 1* asks about the respondent's age and consequently the answers are given in numbers, representing the years of age. However, the structure of the SQLite3 dataset does not allow to change only the values of a particular row (in this case QuestionID = 1). Therefore we notice this fact for later, when retrieving the data and transforming into a suitable dataframe, in order to ensure that this column will be of datatype INT. "
   ]
  },
  {
   "cell_type": "markdown",
   "metadata": {},
   "source": [
    "### 3.5. <a id='toc3_5_'></a>[Final query and selection](#toc0_)"
   ]
  },
  {
   "cell_type": "markdown",
   "metadata": {},
   "source": [
    "Following the **ETL** process and having the data **E**xtracted and initially cleaned via SQL (**T**ransformed), we want to **L** oad it into a format and environment better suitable for further processing. Therefore we transfer it into a Python Pandas dataframe."
   ]
  },
  {
   "cell_type": "markdown",
   "metadata": {},
   "source": [
    "After reviewing the list of questions we selected only the most relevant features as well as all demographic questions. Thereby the processing ensures performance and memory efficiency.\n",
    "\n",
    "The dataframe is further transformed in a more user- and process-friendly format where each row contains all answers of a single user across the selected features as columns. The column names reflect the respective QuestionID. Please note that we've selected one multi-response question (115), which had to be split into multiple columns (115_a1, 115_a2, etc.)."
   ]
  },
  {
   "cell_type": "code",
   "execution_count": 15,
   "metadata": {},
   "outputs": [],
   "source": [
    "rows = cursor.execute(\n",
    "    \"\"\"\n",
    "SELECT *\n",
    "FROM answer\n",
    "WHERE QuestionID IN (\n",
    "    1, 2, 3, 5, 6, 7, 8, 9, 10, 11, 13, 15, 16, 17, 32, 33, 34, 48, 49, 52, 53, 54, 55, 56, 78, 85, 115\n",
    ");\n",
    "\"\"\"\n",
    ").fetchall()\n",
    "\n",
    "df_filtered = cursor_to_df()\n",
    "\n",
    "connection.close()"
   ]
  },
  {
   "cell_type": "code",
   "execution_count": 16,
   "metadata": {},
   "outputs": [
    {
     "data": {
      "text/html": [
       "<div>\n",
       "<style scoped>\n",
       "    .dataframe tbody tr th:only-of-type {\n",
       "        vertical-align: middle;\n",
       "    }\n",
       "\n",
       "    .dataframe tbody tr th {\n",
       "        vertical-align: top;\n",
       "    }\n",
       "\n",
       "    .dataframe thead th {\n",
       "        text-align: right;\n",
       "    }\n",
       "</style>\n",
       "<table border=\"1\" class=\"dataframe\">\n",
       "  <thead>\n",
       "    <tr style=\"text-align: right;\">\n",
       "      <th></th>\n",
       "      <th>UserID</th>\n",
       "      <th>SurveyID</th>\n",
       "      <th>1</th>\n",
       "      <th>2</th>\n",
       "      <th>3</th>\n",
       "      <th>5</th>\n",
       "      <th>6</th>\n",
       "      <th>7</th>\n",
       "      <th>8</th>\n",
       "      <th>9</th>\n",
       "      <th>...</th>\n",
       "      <th>85</th>\n",
       "      <th>115_a1</th>\n",
       "      <th>115_a2</th>\n",
       "      <th>115_a3</th>\n",
       "      <th>115_a4</th>\n",
       "      <th>115_a5</th>\n",
       "      <th>115_a6</th>\n",
       "      <th>115_a7</th>\n",
       "      <th>115_a8</th>\n",
       "      <th>115_a9</th>\n",
       "    </tr>\n",
       "  </thead>\n",
       "  <tbody>\n",
       "    <tr>\n",
       "      <th>0</th>\n",
       "      <td>1</td>\n",
       "      <td>2014</td>\n",
       "      <td>37</td>\n",
       "      <td>female</td>\n",
       "      <td>united states</td>\n",
       "      <td>None</td>\n",
       "      <td>no</td>\n",
       "      <td>1</td>\n",
       "      <td>6-25</td>\n",
       "      <td>1</td>\n",
       "      <td>...</td>\n",
       "      <td>NaN</td>\n",
       "      <td>NaN</td>\n",
       "      <td>NaN</td>\n",
       "      <td>NaN</td>\n",
       "      <td>NaN</td>\n",
       "      <td>NaN</td>\n",
       "      <td>NaN</td>\n",
       "      <td>NaN</td>\n",
       "      <td>NaN</td>\n",
       "      <td>NaN</td>\n",
       "    </tr>\n",
       "    <tr>\n",
       "      <th>1</th>\n",
       "      <td>2</td>\n",
       "      <td>2014</td>\n",
       "      <td>44</td>\n",
       "      <td>male</td>\n",
       "      <td>united states</td>\n",
       "      <td>None</td>\n",
       "      <td>no</td>\n",
       "      <td>0</td>\n",
       "      <td>more than 1000</td>\n",
       "      <td>0</td>\n",
       "      <td>...</td>\n",
       "      <td>NaN</td>\n",
       "      <td>NaN</td>\n",
       "      <td>NaN</td>\n",
       "      <td>NaN</td>\n",
       "      <td>NaN</td>\n",
       "      <td>NaN</td>\n",
       "      <td>NaN</td>\n",
       "      <td>NaN</td>\n",
       "      <td>NaN</td>\n",
       "      <td>NaN</td>\n",
       "    </tr>\n",
       "    <tr>\n",
       "      <th>2</th>\n",
       "      <td>3</td>\n",
       "      <td>2014</td>\n",
       "      <td>32</td>\n",
       "      <td>male</td>\n",
       "      <td>canada</td>\n",
       "      <td>None</td>\n",
       "      <td>no</td>\n",
       "      <td>0</td>\n",
       "      <td>6-25</td>\n",
       "      <td>1</td>\n",
       "      <td>...</td>\n",
       "      <td>NaN</td>\n",
       "      <td>NaN</td>\n",
       "      <td>NaN</td>\n",
       "      <td>NaN</td>\n",
       "      <td>NaN</td>\n",
       "      <td>NaN</td>\n",
       "      <td>NaN</td>\n",
       "      <td>NaN</td>\n",
       "      <td>NaN</td>\n",
       "      <td>NaN</td>\n",
       "    </tr>\n",
       "    <tr>\n",
       "      <th>3</th>\n",
       "      <td>4</td>\n",
       "      <td>2014</td>\n",
       "      <td>31</td>\n",
       "      <td>male</td>\n",
       "      <td>united kingdom</td>\n",
       "      <td>None</td>\n",
       "      <td>yes</td>\n",
       "      <td>1</td>\n",
       "      <td>26-100</td>\n",
       "      <td>1</td>\n",
       "      <td>...</td>\n",
       "      <td>NaN</td>\n",
       "      <td>NaN</td>\n",
       "      <td>NaN</td>\n",
       "      <td>NaN</td>\n",
       "      <td>NaN</td>\n",
       "      <td>NaN</td>\n",
       "      <td>NaN</td>\n",
       "      <td>NaN</td>\n",
       "      <td>NaN</td>\n",
       "      <td>NaN</td>\n",
       "    </tr>\n",
       "    <tr>\n",
       "      <th>4</th>\n",
       "      <td>5</td>\n",
       "      <td>2014</td>\n",
       "      <td>31</td>\n",
       "      <td>male</td>\n",
       "      <td>united states</td>\n",
       "      <td>None</td>\n",
       "      <td>no</td>\n",
       "      <td>0</td>\n",
       "      <td>100-500</td>\n",
       "      <td>1</td>\n",
       "      <td>...</td>\n",
       "      <td>NaN</td>\n",
       "      <td>NaN</td>\n",
       "      <td>NaN</td>\n",
       "      <td>NaN</td>\n",
       "      <td>NaN</td>\n",
       "      <td>NaN</td>\n",
       "      <td>NaN</td>\n",
       "      <td>NaN</td>\n",
       "      <td>NaN</td>\n",
       "      <td>NaN</td>\n",
       "    </tr>\n",
       "  </tbody>\n",
       "</table>\n",
       "<p>5 rows × 37 columns</p>\n",
       "</div>"
      ],
      "text/plain": [
       "   UserID  SurveyID   1       2               3     5    6  7               8  \\\n",
       "0       1      2014  37  female   united states  None   no  1            6-25   \n",
       "1       2      2014  44    male   united states  None   no  0  more than 1000   \n",
       "2       3      2014  32    male          canada  None   no  0            6-25   \n",
       "3       4      2014  31    male  united kingdom  None  yes  1          26-100   \n",
       "4       5      2014  31    male   united states  None   no  0         100-500   \n",
       "\n",
       "   9  ...   85 115_a1 115_a2 115_a3 115_a4 115_a5 115_a6 115_a7 115_a8 115_a9  \n",
       "0  1  ...  NaN    NaN    NaN    NaN    NaN    NaN    NaN    NaN    NaN    NaN  \n",
       "1  0  ...  NaN    NaN    NaN    NaN    NaN    NaN    NaN    NaN    NaN    NaN  \n",
       "2  1  ...  NaN    NaN    NaN    NaN    NaN    NaN    NaN    NaN    NaN    NaN  \n",
       "3  1  ...  NaN    NaN    NaN    NaN    NaN    NaN    NaN    NaN    NaN    NaN  \n",
       "4  1  ...  NaN    NaN    NaN    NaN    NaN    NaN    NaN    NaN    NaN    NaN  \n",
       "\n",
       "[5 rows x 37 columns]"
      ]
     },
     "execution_count": 16,
     "metadata": {},
     "output_type": "execute_result"
    }
   ],
   "source": [
    "# Step 1: Filter out multi-response question (e.g., QuestionID = 115)\n",
    "df_multi = df_filtered[df_filtered[\"QuestionID\"] == 115].copy()\n",
    "df_other = df_filtered[df_filtered[\"QuestionID\"] != 115].copy()\n",
    "\n",
    "# Step 2: Create multiple response columns for question 115\n",
    "df_multi[\"AnswerText_split\"] = df_multi.groupby(\"UserID\")[\"AnswerText\"].cumcount() + 1\n",
    "df_multi[\"questionid_new\"] = (\n",
    "    df_multi[\"QuestionID\"].astype(str) + \"_a\" + df_multi[\"AnswerText_split\"].astype(str)\n",
    ")\n",
    "\n",
    "# Step 3: Pivot for the multi-response question\n",
    "df_multi_pivot = df_multi.pivot(\n",
    "    index=[\"UserID\", \"SurveyID\"], columns=\"questionid_new\", values=\"AnswerText\"\n",
    ")\n",
    "\n",
    "# Step 4: Pivot the rest of the data (non-multi-response)\n",
    "df_other_pivot = df_other.pivot(\n",
    "    index=[\"UserID\", \"SurveyID\"], columns=\"QuestionID\", values=\"AnswerText\"\n",
    ")\n",
    "\n",
    "# Step 5: Combine the two DataFrames (multi-response and non-multi-response)\n",
    "df = pd.concat([df_other_pivot, df_multi_pivot], axis=1)\n",
    "\n",
    "# Reset the index so that 'UserID' and 'SurveyID' become columns\n",
    "df.reset_index(inplace=True)\n",
    "\n",
    "df.head()"
   ]
  },
  {
   "cell_type": "markdown",
   "metadata": {},
   "source": [
    "Since our target population for this analysis is defined as employed or self-employed people whose *primary role within the company is related to tech/IT* (see question 13), we want to select only this particular population. \n",
    "\n",
    "While having first in mind to restrict also the population to those, whose *employer is primarily a tech company/organization* (see question 9), this idea was ultimately cast away due to several reasons. Mainly because the interest of this analysis lies on workers who are employed in a tech/IT related environment. Many or even most companies nowadays employ professionals in that field even though they are not primarily a tech organization. Think e.g. about banks, insurance companies, research institutions, etc. who have large departments with IT experts. Therefore, the particular role and immediate work environment, which is automatically related to tech/IT as covered in question 9, is more interesting than the company's primary industry. Furthermore, the stricter selection would significantly reduce the number of interviews, which we want to avoid as well.  "
   ]
  },
  {
   "cell_type": "code",
   "execution_count": 17,
   "metadata": {},
   "outputs": [
    {
     "data": {
      "text/html": [
       "<div>\n",
       "<style scoped>\n",
       "    .dataframe tbody tr th:only-of-type {\n",
       "        vertical-align: middle;\n",
       "    }\n",
       "\n",
       "    .dataframe tbody tr th {\n",
       "        vertical-align: top;\n",
       "    }\n",
       "\n",
       "    .dataframe thead th {\n",
       "        text-align: right;\n",
       "    }\n",
       "</style>\n",
       "<table border=\"1\" class=\"dataframe\">\n",
       "  <thead>\n",
       "    <tr style=\"text-align: right;\">\n",
       "      <th>13</th>\n",
       "      <th>no</th>\n",
       "      <th>yes</th>\n",
       "      <th>All</th>\n",
       "    </tr>\n",
       "    <tr>\n",
       "      <th>9</th>\n",
       "      <th></th>\n",
       "      <th></th>\n",
       "      <th></th>\n",
       "    </tr>\n",
       "  </thead>\n",
       "  <tbody>\n",
       "    <tr>\n",
       "      <th>no</th>\n",
       "      <td>35</td>\n",
       "      <td>562</td>\n",
       "      <td>597</td>\n",
       "    </tr>\n",
       "    <tr>\n",
       "      <th>yes</th>\n",
       "      <td>65</td>\n",
       "      <td>909</td>\n",
       "      <td>974</td>\n",
       "    </tr>\n",
       "    <tr>\n",
       "      <th>All</th>\n",
       "      <td>100</td>\n",
       "      <td>1471</td>\n",
       "      <td>1571</td>\n",
       "    </tr>\n",
       "  </tbody>\n",
       "</table>\n",
       "</div>"
      ],
      "text/plain": [
       "13    no   yes   All\n",
       "9                   \n",
       "no    35   562   597\n",
       "yes   65   909   974\n",
       "All  100  1471  1571"
      ]
     },
     "execution_count": 17,
     "metadata": {},
     "output_type": "execute_result"
    }
   ],
   "source": [
    "pd.crosstab(\n",
    "    df[9].replace({\"0\": \"no\", \"1\": \"yes\"}),\n",
    "    df[13].replace({\"0\": \"no\", \"1\": \"yes\"}),\n",
    "    margins=True,\n",
    ")"
   ]
  },
  {
   "cell_type": "markdown",
   "metadata": {},
   "source": [
    "From the contingency table above we can see that we will consequently exclude n=100 interviews (answer \"no\" to question 13).\n",
    "\n",
    "This specification however has limitations, since question 13 was not asked in 2014. This supports the idea to disregard 2014 survey data for further analyses, as described already in 3.1.1."
   ]
  },
  {
   "cell_type": "code",
   "execution_count": 18,
   "metadata": {},
   "outputs": [
    {
     "data": {
      "text/plain": [
       "4118"
      ]
     },
     "execution_count": 18,
     "metadata": {},
     "output_type": "execute_result"
    }
   ],
   "source": [
    "df = df.loc[df[13] != \"0\"]\n",
    "df.drop(13, axis=1, inplace=True)\n",
    "len(df)"
   ]
  },
  {
   "cell_type": "markdown",
   "metadata": {},
   "source": [
    "Our final dataset (incl. 2014 survey data) consists of interviews with 4118 respondents."
   ]
  },
  {
   "cell_type": "markdown",
   "metadata": {},
   "source": [
    "### 3.6. <a id='toc3_6_'></a>[Additional data cleaning via Python](#toc0_)"
   ]
  },
  {
   "cell_type": "markdown",
   "metadata": {},
   "source": [
    "Before analysing the data, an additional data cleansing process must deal with setting the data type, aligning deduplicated answer values and identifying and processing outliers."
   ]
  },
  {
   "cell_type": "markdown",
   "metadata": {},
   "source": [
    "#### 3.6.1. <a id='toc3_6_1_'></a>[Column and Values labelling](#toc0_)"
   ]
  },
  {
   "cell_type": "markdown",
   "metadata": {},
   "source": [
    "Multiple questions have vague or inconsistent answer labels. We want them easier to understand so we recode them. Moreover, we rename the column names from demographic questions, in order to be self-explanatory:"
   ]
  },
  {
   "cell_type": "code",
   "execution_count": 19,
   "metadata": {},
   "outputs": [],
   "source": [
    "df.rename(columns={1: \"age\"}, inplace=True)\n",
    "df.rename(columns={2: \"gender\"}, inplace=True)\n",
    "df.rename(columns={3: \"country\"}, inplace=True)\n",
    "df.rename(columns={5: \"self_employment\"}, inplace=True)\n",
    "df.rename(columns={6: \"family_illness\"}, inplace=True)\n",
    "df.rename(columns={7: \"treatment\"}, inplace=True)\n",
    "df.rename(columns={8: \"company_size\"}, inplace=True)\n",
    "df.rename(columns={9: \"tech_company\"}, inplace=True)\n",
    "df.rename(columns={10: \"health_coverage\"}, inplace=True)\n",
    "df.rename(columns={11: \"anonymity_protection\"}, inplace=True)\n",
    "df.rename(columns={32: \"past_disorder\"}, inplace=True)\n",
    "df.rename(columns={33: \"current_disorder\"}, inplace=True)\n",
    "df.rename(columns={34: \"diagnosed_disorder\"}, inplace=True)"
   ]
  },
  {
   "cell_type": "code",
   "execution_count": 20,
   "metadata": {},
   "outputs": [],
   "source": [
    "df[\"country\"].replace({\"united states\": \"united states of america\"}, inplace=True)\n",
    "df[\"self_employment\"].replace({\"0\": \"no\", \"1\": \"yes\"}, inplace=True)\n",
    "df[\"tech_company\"].replace({\"0\": \"no\", \"1\": \"yes\"}, inplace=True)\n",
    "df[\"treatment\"].replace({\"0\": \"no\", \"1\": \"yes\"}, inplace=True)\n",
    "df[78].replace({\"0\": \"no\", \"1\": \"yes\"}, inplace=True)\n",
    "df[\"anonymity_protection\"].replace({\"don't know\": \"i don't know\"}, inplace=True)"
   ]
  },
  {
   "cell_type": "markdown",
   "metadata": {},
   "source": [
    "Unfortunately, the *gender* was asked as an open end question and therefore we have a variety of answers to standardize:"
   ]
  },
  {
   "cell_type": "code",
   "execution_count": 21,
   "metadata": {},
   "outputs": [],
   "source": [
    "from custom_modules.categorize_gender import categorize_gender\n",
    "\n",
    "df[\"gender_recode\"] = df[\"gender\"].apply(categorize_gender)"
   ]
  },
  {
   "cell_type": "code",
   "execution_count": 22,
   "metadata": {},
   "outputs": [
    {
     "data": {
      "text/plain": [
       "gender_recode\n",
       "male          3019\n",
       "female         983\n",
       "other           62\n",
       "non-binary      54\n",
       "Name: count, dtype: int64"
      ]
     },
     "execution_count": 22,
     "metadata": {},
     "output_type": "execute_result"
    }
   ],
   "source": [
    "df[\"gender_recode\"].value_counts()"
   ]
  },
  {
   "cell_type": "markdown",
   "metadata": {},
   "source": [
    "#### 3.6.2. <a id='toc3_6_2_'></a>[Setting data types](#toc0_)"
   ]
  },
  {
   "cell_type": "code",
   "execution_count": 23,
   "metadata": {},
   "outputs": [
    {
     "name": "stdout",
     "output_type": "stream",
     "text": [
      "<class 'pandas.core.frame.DataFrame'>\n",
      "Index: 4118 entries, 0 to 4217\n",
      "Data columns (total 37 columns):\n",
      " #   Column                Non-Null Count  Dtype \n",
      "---  ------                --------------  ----- \n",
      " 0   UserID                4118 non-null   int64 \n",
      " 1   SurveyID              4118 non-null   int64 \n",
      " 2   age                   4113 non-null   object\n",
      " 3   gender                4096 non-null   object\n",
      " 4   country               4116 non-null   object\n",
      " 5   self_employment       4100 non-null   object\n",
      " 6   family_illness        4118 non-null   object\n",
      " 7   treatment             4118 non-null   object\n",
      " 8   company_size          3614 non-null   object\n",
      " 9   tech_company          3614 non-null   object\n",
      " 10  health_coverage       3614 non-null   object\n",
      " 11  anonymity_protection  3614 non-null   object\n",
      " 12  15                    2354 non-null   object\n",
      " 13  16                    2354 non-null   object\n",
      " 14  17                    2354 non-null   object\n",
      " 15  past_disorder         2845 non-null   object\n",
      " 16  current_disorder      2858 non-null   object\n",
      " 17  diagnosed_disorder    2035 non-null   object\n",
      " 18  48                    2858 non-null   object\n",
      " 19  49                    2858 non-null   object\n",
      " 20  52                    504 non-null    object\n",
      " 21  53                    504 non-null    object\n",
      " 22  54                    504 non-null    object\n",
      " 23  55                    367 non-null    object\n",
      " 24  56                    2768 non-null   object\n",
      " 25  78                    1438 non-null   object\n",
      " 26  85                    1438 non-null   object\n",
      " 27  115_a1                562 non-null    object\n",
      " 28  115_a2                363 non-null    object\n",
      " 29  115_a3                164 non-null    object\n",
      " 30  115_a4                61 non-null     object\n",
      " 31  115_a5                23 non-null     object\n",
      " 32  115_a6                12 non-null     object\n",
      " 33  115_a7                6 non-null      object\n",
      " 34  115_a8                3 non-null      object\n",
      " 35  115_a9                1 non-null      object\n",
      " 36  gender_recode         4118 non-null   object\n",
      "dtypes: int64(2), object(35)\n",
      "memory usage: 1.2+ MB\n"
     ]
    }
   ],
   "source": [
    "df.info()"
   ]
  },
  {
   "cell_type": "markdown",
   "metadata": {},
   "source": [
    "As mentioned earlier, we need to ensure that the age question (QuestionID=1) is of datatype integer:"
   ]
  },
  {
   "cell_type": "code",
   "execution_count": 24,
   "metadata": {},
   "outputs": [],
   "source": [
    "df[\"age\"] = df[\"age\"].astype(\"Int64\")"
   ]
  },
  {
   "cell_type": "markdown",
   "metadata": {},
   "source": [
    "Consequently columns 17, 48, 49, `past_disorder` and `current_disorder` are set as data type `category` with a particular order:"
   ]
  },
  {
   "cell_type": "code",
   "execution_count": 25,
   "metadata": {},
   "outputs": [],
   "source": [
    "df[17] = pd.Categorical(\n",
    "    df[17],\n",
    "    categories=[\n",
    "        \"very difficult\",\n",
    "        \"somewhat difficult\",\n",
    "        \"neither easy nor difficult\",\n",
    "        \"somewhat easy\",\n",
    "        \"very easy\",\n",
    "        \"i don't know\",\n",
    "    ],\n",
    "    ordered=True,\n",
    ")\n",
    "df[\"past_disorder\"] = pd.Categorical(\n",
    "    df[\"past_disorder\"],\n",
    "    categories=[\"don't know\", \"no\", \"maybe\", \"possibly\", \"yes\"],\n",
    "    ordered=True,\n",
    ")\n",
    "df[\"current_disorder\"] = pd.Categorical(\n",
    "    df[\"current_disorder\"],\n",
    "    categories=[\"don't know\", \"no\", \"maybe\", \"possibly\", \"yes\"],\n",
    "    ordered=True,\n",
    ")\n",
    "df[48] = pd.Categorical(\n",
    "    df[48],\n",
    "    categories=[\"not applicable to me\", \"never\", \"rarely\", \"sometimes\", \"often\"],\n",
    "    ordered=True,\n",
    ")\n",
    "df[49] = pd.Categorical(\n",
    "    df[49],\n",
    "    categories=[\"not applicable to me\", \"never\", \"rarely\", \"sometimes\", \"often\"],\n",
    "    ordered=True,\n",
    ")"
   ]
  },
  {
   "cell_type": "code",
   "execution_count": 26,
   "metadata": {},
   "outputs": [],
   "source": [
    "df[\"SurveyID\"].replace(\n",
    "    {2014: \"2014\", 2016: \"2016\", 2017: \"2017\", 2018: \"2018\", 2019: \"2019\"}, inplace=True\n",
    ")\n",
    "df[\"SurveyID\"] = pd.Categorical(\n",
    "    df[\"SurveyID\"], categories=[\"2014\", \"2016\", \"2017\", \"2018\", \"2019\"], ordered=True\n",
    ")"
   ]
  },
  {
   "cell_type": "markdown",
   "metadata": {},
   "source": [
    "#### 3.6.3. <a id='toc3_6_3_'></a>[Outliers: identification and handling](#toc0_)"
   ]
  },
  {
   "cell_type": "markdown",
   "metadata": {},
   "source": [
    "Identifying outliers in the data follows a three step plan:\n",
    "1) Using data visualization techniques to inspect the data’s distribution and verify the presence of outliers\n",
    "2) Using a statistical method to calculate the outlier data points\n",
    "3) Applying a statistical method to flag, drop or transform the outliers\n",
    "\n",
    "Moreover, a two-level approach is applied to check both types of outliers, *natural* and *anomalous*: the rule-based method and the statistical approach. "
   ]
  },
  {
   "cell_type": "markdown",
   "metadata": {},
   "source": [
    "##### 3.6.3.1. <a id='toc3_6_3_1_'></a>[Rule-based method](#toc0_)"
   ]
  },
  {
   "cell_type": "markdown",
   "metadata": {},
   "source": [
    "Error-related outlier (anomalies) can be identified by comparing the valid value ranges (e.g. given in the feature descriptions) with the min-max values of the given dataset (see below). Valid value ranges were not explicitely provided in the meta data, therefore additional research, common sense and logical reasoning had to be applied. \n",
    "\n",
    "i) The valid number of age must be justified on logical grounds. Negative and extremely large values cannot be permitted here."
   ]
  },
  {
   "cell_type": "code",
   "execution_count": 27,
   "metadata": {},
   "outputs": [
    {
     "data": {
      "text/plain": [
       "count       4113.0\n",
       "mean     33.952103\n",
       "std      10.421627\n",
       "min          -29.0\n",
       "25%           28.0\n",
       "50%           33.0\n",
       "75%           38.0\n",
       "max          329.0\n",
       "Name: age, dtype: Float64"
      ]
     },
     "execution_count": 27,
     "metadata": {},
     "output_type": "execute_result"
    }
   ],
   "source": [
    "df[\"age\"].describe()"
   ]
  },
  {
   "cell_type": "markdown",
   "metadata": {},
   "source": [
    "We want to see how many cases have invalid values for age:"
   ]
  },
  {
   "cell_type": "code",
   "execution_count": 28,
   "metadata": {},
   "outputs": [
    {
     "data": {
      "text/html": [
       "<div>\n",
       "<style scoped>\n",
       "    .dataframe tbody tr th:only-of-type {\n",
       "        vertical-align: middle;\n",
       "    }\n",
       "\n",
       "    .dataframe tbody tr th {\n",
       "        vertical-align: top;\n",
       "    }\n",
       "\n",
       "    .dataframe thead th {\n",
       "        text-align: right;\n",
       "    }\n",
       "</style>\n",
       "<table border=\"1\" class=\"dataframe\">\n",
       "  <thead>\n",
       "    <tr style=\"text-align: right;\">\n",
       "      <th></th>\n",
       "      <th>UserID</th>\n",
       "      <th>SurveyID</th>\n",
       "      <th>age</th>\n",
       "    </tr>\n",
       "  </thead>\n",
       "  <tbody>\n",
       "    <tr>\n",
       "      <th>143</th>\n",
       "      <td>144</td>\n",
       "      <td>2014</td>\n",
       "      <td>-29</td>\n",
       "    </tr>\n",
       "    <tr>\n",
       "      <th>364</th>\n",
       "      <td>365</td>\n",
       "      <td>2014</td>\n",
       "      <td>329</td>\n",
       "    </tr>\n",
       "    <tr>\n",
       "      <th>734</th>\n",
       "      <td>735</td>\n",
       "      <td>2014</td>\n",
       "      <td>5</td>\n",
       "    </tr>\n",
       "    <tr>\n",
       "      <th>989</th>\n",
       "      <td>990</td>\n",
       "      <td>2014</td>\n",
       "      <td>8</td>\n",
       "    </tr>\n",
       "    <tr>\n",
       "      <th>1090</th>\n",
       "      <td>1091</td>\n",
       "      <td>2014</td>\n",
       "      <td>11</td>\n",
       "    </tr>\n",
       "    <tr>\n",
       "      <th>1182</th>\n",
       "      <td>1183</td>\n",
       "      <td>2014</td>\n",
       "      <td>72</td>\n",
       "    </tr>\n",
       "    <tr>\n",
       "      <th>1353</th>\n",
       "      <td>1354</td>\n",
       "      <td>2016</td>\n",
       "      <td>17</td>\n",
       "    </tr>\n",
       "    <tr>\n",
       "      <th>1632</th>\n",
       "      <td>1633</td>\n",
       "      <td>2016</td>\n",
       "      <td>99</td>\n",
       "    </tr>\n",
       "    <tr>\n",
       "      <th>1824</th>\n",
       "      <td>1825</td>\n",
       "      <td>2016</td>\n",
       "      <td>323</td>\n",
       "    </tr>\n",
       "    <tr>\n",
       "      <th>1916</th>\n",
       "      <td>1917</td>\n",
       "      <td>2016</td>\n",
       "      <td>3</td>\n",
       "    </tr>\n",
       "    <tr>\n",
       "      <th>1961</th>\n",
       "      <td>1962</td>\n",
       "      <td>2016</td>\n",
       "      <td>66</td>\n",
       "    </tr>\n",
       "    <tr>\n",
       "      <th>2068</th>\n",
       "      <td>2069</td>\n",
       "      <td>2016</td>\n",
       "      <td>15</td>\n",
       "    </tr>\n",
       "    <tr>\n",
       "      <th>2481</th>\n",
       "      <td>2482</td>\n",
       "      <td>2016</td>\n",
       "      <td>70</td>\n",
       "    </tr>\n",
       "    <tr>\n",
       "      <th>2719</th>\n",
       "      <td>2720</td>\n",
       "      <td>2017</td>\n",
       "      <td>66</td>\n",
       "    </tr>\n",
       "    <tr>\n",
       "      <th>3033</th>\n",
       "      <td>3034</td>\n",
       "      <td>2017</td>\n",
       "      <td>67</td>\n",
       "    </tr>\n",
       "    <tr>\n",
       "      <th>3570</th>\n",
       "      <td>3571</td>\n",
       "      <td>2018</td>\n",
       "      <td>67</td>\n",
       "    </tr>\n",
       "    <tr>\n",
       "      <th>3980</th>\n",
       "      <td>3981</td>\n",
       "      <td>2019</td>\n",
       "      <td>0</td>\n",
       "    </tr>\n",
       "  </tbody>\n",
       "</table>\n",
       "</div>"
      ],
      "text/plain": [
       "      UserID SurveyID  age\n",
       "143      144     2014  -29\n",
       "364      365     2014  329\n",
       "734      735     2014    5\n",
       "989      990     2014    8\n",
       "1090    1091     2014   11\n",
       "1182    1183     2014   72\n",
       "1353    1354     2016   17\n",
       "1632    1633     2016   99\n",
       "1824    1825     2016  323\n",
       "1916    1917     2016    3\n",
       "1961    1962     2016   66\n",
       "2068    2069     2016   15\n",
       "2481    2482     2016   70\n",
       "2719    2720     2017   66\n",
       "3033    3034     2017   67\n",
       "3570    3571     2018   67\n",
       "3980    3981     2019    0"
      ]
     },
     "execution_count": 28,
     "metadata": {},
     "output_type": "execute_result"
    }
   ],
   "source": [
    "df.iloc[:, :3][(df[\"age\"] < 18) | (df[\"age\"] > 65)]"
   ]
  },
  {
   "cell_type": "markdown",
   "metadata": {},
   "source": [
    "We decide to select all values with an age under 15 and over 75 as invalid and assign Null values instead:"
   ]
  },
  {
   "cell_type": "code",
   "execution_count": 29,
   "metadata": {},
   "outputs": [],
   "source": [
    "df.loc[(df[\"age\"] < 15) | (df[\"age\"] > 75), :] = np.nan"
   ]
  },
  {
   "cell_type": "code",
   "execution_count": 30,
   "metadata": {},
   "outputs": [
    {
     "data": {
      "text/plain": [
       "count       4104.0\n",
       "mean     33.844055\n",
       "std       8.015525\n",
       "min           15.0\n",
       "25%           28.0\n",
       "50%           33.0\n",
       "75%           38.0\n",
       "max           72.0\n",
       "Name: age, dtype: Float64"
      ]
     },
     "execution_count": 30,
     "metadata": {},
     "output_type": "execute_result"
    }
   ],
   "source": [
    "df[\"age\"].describe()"
   ]
  },
  {
   "cell_type": "markdown",
   "metadata": {},
   "source": [
    "##### 3.6.3.2. <a id='toc3_6_3_2_'></a>[Statistical outliers](#toc0_)"
   ]
  },
  {
   "cell_type": "markdown",
   "metadata": {},
   "source": [
    "As next, the features are visualized (via boxplot and histogram) to detect possible outliers. Simultaneously the most extensively used procedure for outlier detection, Tukey’s (1977) Inter Quartile Range (IQR) method is used to calculate and identify these outliers. "
   ]
  },
  {
   "cell_type": "markdown",
   "metadata": {},
   "source": [
    "##### 3.6.3.3. <a id='toc3_6_3_3_'></a>[Demographic: 'age'](#toc0_)"
   ]
  },
  {
   "cell_type": "code",
   "execution_count": 31,
   "metadata": {},
   "outputs": [
    {
     "data": {
      "image/png": "[encoded data removed]",
      "text/plain": [
       "<Figure size 500x500 with 2 Axes>"
      ]
     },
     "metadata": {},
     "output_type": "display_data"
    }
   ],
   "source": [
    "f, (ax_box, ax_hist) = plt.subplots(\n",
    "    1, 2, sharey=True, gridspec_kw={\"width_ratios\": (0.50, 0.25)}, figsize=(5, 5)\n",
    ")\n",
    "\n",
    "sns.boxplot(df[\"age\"], ax=ax_box)\n",
    "sns.histplot(data=df, y=\"age\", ax=ax_hist, bins=20, kde=True)\n",
    "\n",
    "ax_box.set(xticks=[], xlabel=\"\")\n",
    "ax_box.set_ylabel(\"age\", labelpad=10)\n",
    "ax_box.set_title(r\"Box plot of $\\it{age}$ (incl. histogram)\", pad=35)\n",
    "plt.ylim(15, 75)\n",
    "ax_hist.set(xticks=[200, 400, 600], xlabel=\"Respondents\")\n",
    "sns.despine(ax=ax_box)\n",
    "sns.despine(ax=ax_hist, right=True, top=True)\n",
    "plt.tight_layout()\n",
    "plt.show()"
   ]
  },
  {
   "cell_type": "markdown",
   "metadata": {},
   "source": [
    "We can see from the histogram above that the values for age are rather normally distributed. The box plot reveals multiple outliers outside the inner fence, which are marked in the figure with a circle. As we have cleaned already error-related outliers, even the outliers are in a reasonable range and do not have to be further flagged. However, for further analyses it might be interesting to look at this outlier group of respondents 53 years or older in particular."
   ]
  },
  {
   "cell_type": "markdown",
   "metadata": {},
   "source": [
    "## 4. <a id='toc4_'></a>[Exploratory data analysis (EDA)](#toc0_)"
   ]
  },
  {
   "cell_type": "markdown",
   "metadata": {},
   "source": [
    "### 4.1. <a id='toc4_1_'></a>[Respondent overview](#toc0_)"
   ]
  },
  {
   "cell_type": "markdown",
   "metadata": {},
   "source": [
    "In this subchapter we want to look at the respondent structure across all demographic questions."
   ]
  },
  {
   "cell_type": "markdown",
   "metadata": {},
   "source": [
    "### 4.2. <a id='toc4_2_'></a>[Sample size](#toc0_)"
   ]
  },
  {
   "cell_type": "markdown",
   "metadata": {},
   "source": [
    "The final sample size of the final dataset consist of the following number of interviews, which equals the number of respondents:"
   ]
  },
  {
   "cell_type": "code",
   "execution_count": 32,
   "metadata": {},
   "outputs": [
    {
     "data": {
      "image/png": "[encoded data removed]",
      "text/plain": [
       "<Figure size 500x400 with 1 Axes>"
      ]
     },
     "metadata": {},
     "output_type": "display_data"
    }
   ],
   "source": [
    "survey_sample_size = df[\"SurveyID\"].value_counts()\n",
    "\n",
    "plt.figure(figsize=(5, 4))\n",
    "bar_plot = sns.barplot(\n",
    "    x=survey_sample_size.index, y=survey_sample_size.values, palette=\"Set2\"\n",
    ")\n",
    "plt.title(\"Interviews/Respondents per Survey year\", fontsize=14, pad=20)\n",
    "plt.ylabel(\"\")\n",
    "plt.yticks([])\n",
    "plt.xlabel(\"\")\n",
    "\n",
    "for bar, value in zip(bar_plot.patches, survey_sample_size.values):\n",
    "    bar_plot.annotate(\n",
    "        f\"{value}\",\n",
    "        (bar.get_x() + bar.get_width() / 2, bar.get_height()),\n",
    "        ha=\"center\",\n",
    "        va=\"bottom\",\n",
    "        fontsize=10,\n",
    "    )\n",
    "\n",
    "for spine in bar_plot.spines.values():\n",
    "    spine.set_visible(False)\n",
    "bar_plot.spines[\"bottom\"].set_visible(True)\n",
    "\n",
    "plt.tight_layout()\n",
    "plt.show()"
   ]
  },
  {
   "cell_type": "markdown",
   "metadata": {},
   "source": [
    "Interviews are not uniformly distributed across the five survey years. This means that any estimates based on the total number of interviews are strongly biased. The survey years 2016 and 2014 are overrepresented in the total, while the other three years are underrepresented."
   ]
  },
  {
   "cell_type": "markdown",
   "metadata": {},
   "source": [
    "### 4.3. <a id='toc4_3_'></a>[Age](#toc0_)"
   ]
  },
  {
   "cell_type": "code",
   "execution_count": 33,
   "metadata": {},
   "outputs": [
    {
     "data": {
      "text/plain": [
       "count       4104.0\n",
       "mean     33.844055\n",
       "std       8.015525\n",
       "min           15.0\n",
       "25%           28.0\n",
       "50%           33.0\n",
       "75%           38.0\n",
       "max           72.0\n",
       "Name: age, dtype: Float64"
      ]
     },
     "execution_count": 33,
     "metadata": {},
     "output_type": "execute_result"
    }
   ],
   "source": [
    "df[\"age\"].describe()"
   ]
  },
  {
   "cell_type": "markdown",
   "metadata": {},
   "source": [
    "The distribution of respondents age (after data cleaning) is roughly bell shaped while both, the median and the mean are centered around 33 years, a range from 15 to 72 years but with a cluster between 25 and 40 years. Outliers are respondents with 53 years and older. (as already discussed in chapter 3.3.3.2.1). The center also matches the mode of the uni-modal distribution, as seen below:"
   ]
  },
  {
   "cell_type": "code",
   "execution_count": 34,
   "metadata": {},
   "outputs": [
    {
     "data": {
      "image/png": "[encoded data removed]",
      "text/plain": [
       "<Figure size 600x400 with 1 Axes>"
      ]
     },
     "metadata": {},
     "output_type": "display_data"
    }
   ],
   "source": [
    "plt.figure(figsize=(6, 4))\n",
    "sns.histplot(data=df, x=\"age\", bins=55, kde=False)\n",
    "\n",
    "plt.title(\"Age Distribution\")\n",
    "plt.xlabel(\"Age\")\n",
    "plt.ylabel(\"Respondents\")\n",
    "plt.xlim(15, 75)\n",
    "plt.tight_layout()\n",
    "plt.show()"
   ]
  },
  {
   "cell_type": "code",
   "execution_count": 35,
   "metadata": {},
   "outputs": [
    {
     "data": {
      "image/png": "[encoded data removed]",
      "text/plain": [
       "<Figure size 600x400 with 1 Axes>"
      ]
     },
     "metadata": {},
     "output_type": "display_data"
    }
   ],
   "source": [
    "plt.figure(figsize=(6, 4))\n",
    "sns.violinplot(x=\"SurveyID\", y=\"age\", data=df, palette=\"Set2\")\n",
    "\n",
    "plt.title(\"Age Across Survey Years\")\n",
    "plt.xlabel(\"\")\n",
    "plt.ylabel(\"Age\")\n",
    "plt.ylim(15, 75)\n",
    "plt.tight_layout()\n",
    "plt.show()"
   ]
  },
  {
   "cell_type": "markdown",
   "metadata": {},
   "source": [
    "Comparing roughly the median bars (white in the black box-plot) of the violin plots, the average age increases throughout the survey years.\n",
    "\n",
    "The violin plots for the age distribution in every survey year show otherwise very consistent shapes. This means that there are no particular biases for age in a particular survey year. However, noting the sample and survey design discussion, we do not know much about the target population and its age distribution, therefore we cannot rule out any response bias. Studies suggest that the average age of Tech industry employees lies around [35](https://www.cwjobs.co.uk/advice/ageism-in-tech) and [38 years](https://www.diversityintech.co.uk/the-truth-about-ageism-in-tech/#:~:text=The%20report%20also%20stated%20that,age%20discrimination%20in%20their%20organisations.) and therefore somewhat higher than the estimates discovered here. Moreover, the volunteer recruiting via the web-platform access to the surveys could further bias the responses, e.g. by excluding particular groups of the population who are not aware of the survey or those who have generally less desire to participate."
   ]
  },
  {
   "cell_type": "markdown",
   "metadata": {},
   "source": [
    "### 4.4. <a id='toc4_4_'></a>[Gender](#toc0_)"
   ]
  },
  {
   "cell_type": "markdown",
   "metadata": {},
   "source": [
    "The stacked bar chart below shows the distribution of the (recoded) answers to the question about respondent's gender for each survey year.\n",
    "\n",
    "Since the number of interviews differ widely across the survey waves, the bars are normalized, showing the percentage for each answer per year:"
   ]
  },
  {
   "cell_type": "code",
   "execution_count": 36,
   "metadata": {},
   "outputs": [
    {
     "data": {
      "image/png": "[encoded data removed]",
      "text/plain": [
       "<Figure size 600x400 with 1 Axes>"
      ]
     },
     "metadata": {},
     "output_type": "display_data"
    }
   ],
   "source": [
    "crosstab = pd.crosstab(df[\"SurveyID\"], df[\"gender_recode\"])\n",
    "crosstab_percentage = crosstab.div(crosstab.sum(axis=1), axis=0) * 100\n",
    "\n",
    "ax = crosstab_percentage.plot(kind=\"bar\", stacked=True, figsize=(6, 4), colormap=\"Set2\")\n",
    "\n",
    "from custom_modules.plot_formatting import percentage_stacked_bars\n",
    "percentage_stacked_bars(ax, threshold=2)\n",
    "\n",
    "plt.title(\"Gender\", fontsize=14)\n",
    "plt.xlabel(\"\")\n",
    "plt.ylabel(\"Percentage (%)\")\n",
    "plt.xticks(rotation=0)\n",
    "plt.legend(bbox_to_anchor=(1.05, 1), loc=\"upper left\")\n",
    "\n",
    "plt.tight_layout()\n",
    "plt.show()"
   ]
  },
  {
   "cell_type": "markdown",
   "metadata": {},
   "source": [
    "The share of female respondents shows a positive trend throughout the survey years with 20% to 30% of the sample population. The male respondents still dominate the population but loosing their share from 85% to 65%.\n",
    "\n",
    "The disparities across gender in the sample population might reflect existing disparities in the target population, where the tech/IT-field as part of the [STEM](https://en.wikipedia.org/wiki/Science,_technology,_engineering,_and_mathematics) disciplines is dominated by males traditionally. Multiple studies suggest such a gender gap in the tech industry, locating about 25% of the target population to females (see e.g. [here](https://technologymagazine.com/articles/kearney-report-highlights-how-to-tackle-the-tech-gender-gap))."
   ]
  },
  {
   "cell_type": "markdown",
   "metadata": {},
   "source": [
    "**Age distribution by Gender**\n",
    "\n",
    "The table below shows the statistical summary of the *Age distribution* for the four Gender subgroups:"
   ]
  },
  {
   "cell_type": "code",
   "execution_count": 37,
   "metadata": {},
   "outputs": [
    {
     "data": {
      "text/html": [
       "<div>\n",
       "<style scoped>\n",
       "    .dataframe tbody tr th:only-of-type {\n",
       "        vertical-align: middle;\n",
       "    }\n",
       "\n",
       "    .dataframe tbody tr th {\n",
       "        vertical-align: top;\n",
       "    }\n",
       "\n",
       "    .dataframe thead th {\n",
       "        text-align: right;\n",
       "    }\n",
       "</style>\n",
       "<table border=\"1\" class=\"dataframe\">\n",
       "  <thead>\n",
       "    <tr style=\"text-align: right;\">\n",
       "      <th></th>\n",
       "      <th>count</th>\n",
       "      <th>mean</th>\n",
       "      <th>std</th>\n",
       "      <th>min</th>\n",
       "      <th>25%</th>\n",
       "      <th>50%</th>\n",
       "      <th>75%</th>\n",
       "      <th>max</th>\n",
       "    </tr>\n",
       "    <tr>\n",
       "      <th>gender_recode</th>\n",
       "      <th></th>\n",
       "      <th></th>\n",
       "      <th></th>\n",
       "      <th></th>\n",
       "      <th></th>\n",
       "      <th></th>\n",
       "      <th></th>\n",
       "      <th></th>\n",
       "    </tr>\n",
       "  </thead>\n",
       "  <tbody>\n",
       "    <tr>\n",
       "      <th>female</th>\n",
       "      <td>983.0</td>\n",
       "      <td>33.44354</td>\n",
       "      <td>8.632849</td>\n",
       "      <td>18.0</td>\n",
       "      <td>27.0</td>\n",
       "      <td>32.0</td>\n",
       "      <td>38.0</td>\n",
       "      <td>72.0</td>\n",
       "    </tr>\n",
       "    <tr>\n",
       "      <th>male</th>\n",
       "      <td>3011.0</td>\n",
       "      <td>34.038193</td>\n",
       "      <td>7.836506</td>\n",
       "      <td>15.0</td>\n",
       "      <td>28.0</td>\n",
       "      <td>33.0</td>\n",
       "      <td>39.0</td>\n",
       "      <td>70.0</td>\n",
       "    </tr>\n",
       "    <tr>\n",
       "      <th>non-binary</th>\n",
       "      <td>54.0</td>\n",
       "      <td>31.518519</td>\n",
       "      <td>5.894483</td>\n",
       "      <td>21.0</td>\n",
       "      <td>27.0</td>\n",
       "      <td>31.5</td>\n",
       "      <td>35.0</td>\n",
       "      <td>48.0</td>\n",
       "    </tr>\n",
       "    <tr>\n",
       "      <th>other</th>\n",
       "      <td>56.0</td>\n",
       "      <td>32.678571</td>\n",
       "      <td>7.507831</td>\n",
       "      <td>23.0</td>\n",
       "      <td>27.75</td>\n",
       "      <td>31.0</td>\n",
       "      <td>37.0</td>\n",
       "      <td>54.0</td>\n",
       "    </tr>\n",
       "  </tbody>\n",
       "</table>\n",
       "</div>"
      ],
      "text/plain": [
       "                count       mean       std   min    25%   50%   75%   max\n",
       "gender_recode                                                            \n",
       "female          983.0   33.44354  8.632849  18.0   27.0  32.0  38.0  72.0\n",
       "male           3011.0  34.038193  7.836506  15.0   28.0  33.0  39.0  70.0\n",
       "non-binary       54.0  31.518519  5.894483  21.0   27.0  31.5  35.0  48.0\n",
       "other            56.0  32.678571  7.507831  23.0  27.75  31.0  37.0  54.0"
      ]
     },
     "execution_count": 37,
     "metadata": {},
     "output_type": "execute_result"
    }
   ],
   "source": [
    "df.groupby(\"gender_recode\")[\"age\"].describe()"
   ]
  },
  {
   "cell_type": "markdown",
   "metadata": {},
   "source": [
    "Interestingly there is not much difference across the genders regarding their average age (measured via mean or median/50%), ranging between 32 and 34 years. Looking at the ranges (min and max) also indicates that there are indeed elder women working in the tech field. Non-binary people and Other, however, are less frequent in the highest age groups (lower max values). The standard deviation from the mean lies around 6 to 8 years."
   ]
  },
  {
   "cell_type": "markdown",
   "metadata": {},
   "source": [
    "### 4.5. <a id='toc4_5_'></a>[Country of residence](#toc0_)"
   ]
  },
  {
   "cell_type": "code",
   "execution_count": 38,
   "metadata": {},
   "outputs": [
    {
     "data": {
      "text/plain": [
       "80"
      ]
     },
     "execution_count": 38,
     "metadata": {},
     "output_type": "execute_result"
    }
   ],
   "source": [
    "len(df[\"country\"].unique())"
   ]
  },
  {
   "cell_type": "markdown",
   "metadata": {},
   "source": [
    "The respondents come from 80 different countries with the following distribution of the top countries:"
   ]
  },
  {
   "cell_type": "code",
   "execution_count": 77,
   "metadata": {},
   "outputs": [
    {
     "data": {
      "image/png": "[encoded data removed]",
      "text/plain": [
       "<Figure size 600x400 with 1 Axes>"
      ]
     },
     "metadata": {},
     "output_type": "display_data"
    }
   ],
   "source": [
    "country_counts = df[\"country\"].value_counts()\n",
    "top_9_countries = country_counts.head(9)\n",
    "top_9_countries[\"Other\"] = country_counts[9:].sum()\n",
    "\n",
    "\n",
    "plt.figure(figsize=(6, 4))\n",
    "bar_plot = sns.barplot(x=top_9_countries.values, y=top_9_countries.index, palette=\"Set3\")\n",
    "\n",
    "for index, value in enumerate(top_9_countries.values):\n",
    "    bar_plot.text(value * 0.95, index, f'{value:,}', color='black', ha=\"right\", va=\"center\", fontsize=8)\n",
    "plt.xscale(\"log\")\n",
    "custom_ticks = [20, 50, 100, 200, 500, 1000, 2000]\n",
    "plt.xticks(custom_ticks, labels=[str(tick) for tick in custom_ticks])\n",
    "plt.title(\"Top Countries of Residence\", fontsize=14)\n",
    "plt.ylabel(\"\")\n",
    "plt.xlabel(\"Respondents (Log Scale)\")\n",
    "plt.xlim(0, 3000)\n",
    "bar_plot.spines[\"right\"].set_visible(False)\n",
    "bar_plot.spines[\"top\"].set_visible(False)\n",
    "plt.tight_layout()\n",
    "plt.show()"
   ]
  },
  {
   "cell_type": "markdown",
   "metadata": {},
   "source": [
    "As we can see from the horizontal bar chart above, the interviews are highly biased by the country of residence. More than 2500 respondents, which is more than half of the total sample size, are from the USA. The UK with around 500 respondents and Canada with around 200 respondents come next in the list, while all other countries have only rather marginal number of participants.\n",
    "\n",
    "As a consequence, the results of this analysis are limited to the geographical region of North America, in particular the USA, and partially UK. This geographical clustering of the survey data also forbids valuable cross-country comparisons."
   ]
  },
  {
   "cell_type": "markdown",
   "metadata": {},
   "source": [
    "### 4.6. <a id='toc4_6_'></a>[Self-employment](#toc0_)"
   ]
  },
  {
   "cell_type": "code",
   "execution_count": 40,
   "metadata": {},
   "outputs": [
    {
     "data": {
      "text/html": [
       "<div>\n",
       "<style scoped>\n",
       "    .dataframe tbody tr th:only-of-type {\n",
       "        vertical-align: middle;\n",
       "    }\n",
       "\n",
       "    .dataframe tbody tr th {\n",
       "        vertical-align: top;\n",
       "    }\n",
       "\n",
       "    .dataframe thead th {\n",
       "        text-align: right;\n",
       "    }\n",
       "</style>\n",
       "<table border=\"1\" class=\"dataframe\">\n",
       "  <thead>\n",
       "    <tr style=\"text-align: right;\">\n",
       "      <th></th>\n",
       "      <th>Count</th>\n",
       "      <th>Percentage (%)</th>\n",
       "    </tr>\n",
       "    <tr>\n",
       "      <th>self_employment</th>\n",
       "      <th></th>\n",
       "      <th></th>\n",
       "    </tr>\n",
       "  </thead>\n",
       "  <tbody>\n",
       "    <tr>\n",
       "      <th>no</th>\n",
       "      <td>3443</td>\n",
       "      <td>84.0</td>\n",
       "    </tr>\n",
       "    <tr>\n",
       "      <th>yes</th>\n",
       "      <td>648</td>\n",
       "      <td>16.0</td>\n",
       "    </tr>\n",
       "  </tbody>\n",
       "</table>\n",
       "</div>"
      ],
      "text/plain": [
       "                 Count  Percentage (%)\n",
       "self_employment                       \n",
       "no                3443            84.0\n",
       "yes                648            16.0"
      ]
     },
     "execution_count": 40,
     "metadata": {},
     "output_type": "execute_result"
    }
   ],
   "source": [
    "pd.DataFrame(\n",
    "    {\n",
    "        \"Count\": df[\"self_employment\"].value_counts(),\n",
    "        \"Percentage (%)\": round(\n",
    "            df[\"self_employment\"].value_counts(normalize=True) * 100\n",
    "        ),\n",
    "    }\n",
    ")"
   ]
  },
  {
   "cell_type": "markdown",
   "metadata": {},
   "source": [
    "16% of the respondents are self employed."
   ]
  },
  {
   "cell_type": "markdown",
   "metadata": {},
   "source": [
    "## 5. <a id='toc5_'></a>[Feature analysis on Mental Health Disorders](#toc0_)"
   ]
  },
  {
   "cell_type": "markdown",
   "metadata": {},
   "source": [
    "In this chapter we want to look at the state of the mental health of the respondents. All key features for this are analysed here regarding their development over the survey years (time analysis) and (if relevant) their correlation with the demographic variables age and gender."
   ]
  },
  {
   "cell_type": "markdown",
   "metadata": {},
   "source": [
    "### 5.1. <a id='toc5_1_'></a>[Family history of mental illness](#toc0_)"
   ]
  },
  {
   "cell_type": "markdown",
   "metadata": {},
   "source": [
    "The stacked bar chart below shows the distribution of the answers to the question \"Do you have a family history of mental illness?\" for each survey year.\n",
    "\n",
    "Since the number of interviews differ widely across the survey waves, the bars are normalized, showing the percentage for each answer per year:"
   ]
  },
  {
   "cell_type": "code",
   "execution_count": 41,
   "metadata": {},
   "outputs": [
    {
     "data": {
      "image/png": "[encoded data removed]",
      "text/plain": [
       "<Figure size 600x400 with 1 Axes>"
      ]
     },
     "metadata": {},
     "output_type": "display_data"
    }
   ],
   "source": [
    "crosstab = pd.crosstab(df[\"SurveyID\"], df[\"family_illness\"])\n",
    "crosstab_percentage = crosstab.div(crosstab.sum(axis=1), axis=0) * 100\n",
    "\n",
    "ax = crosstab_percentage.plot(kind=\"bar\", stacked=True, figsize=(6, 4), colormap=\"Set2\")\n",
    "\n",
    "percentage_stacked_bars(ax)\n",
    "plt.title(\"Family history of mental illness\", fontsize=14)\n",
    "plt.xlabel(\"\")\n",
    "plt.ylabel(\"Percentage (%)\")\n",
    "plt.xticks(rotation=0)\n",
    "plt.legend(bbox_to_anchor=(1.05, 1), loc=\"upper left\")\n",
    "\n",
    "plt.tight_layout()\n",
    "plt.show()"
   ]
  },
  {
   "cell_type": "markdown",
   "metadata": {},
   "source": [
    "The share of respondents having a family history of mental illness is rather stable across the surveys and varies between 40% and 50%.\n",
    "\n",
    "The answer composition also shows that most probably there was no 'Don´t know' answer available in the questionnaire of 2014."
   ]
  },
  {
   "cell_type": "markdown",
   "metadata": {},
   "source": [
    "### 5.2. <a id='toc5_2_'></a>[Professional treatment for a mental health disorder](#toc0_)"
   ]
  },
  {
   "cell_type": "markdown",
   "metadata": {},
   "source": [
    "The stacked bar chart below shows the distribution of the answers to the question \"Have you ever sought treatment for a mental health disorder from a mental health professional?\" for each survey year.\n",
    "\n",
    "Since the number of interviews differ widely across the survey waves, the bars are normalized, showing the percentage for each answer per year:"
   ]
  },
  {
   "cell_type": "code",
   "execution_count": 42,
   "metadata": {},
   "outputs": [
    {
     "data": {
      "image/png": "[encoded data removed]",
      "text/plain": [
       "<Figure size 600x400 with 1 Axes>"
      ]
     },
     "metadata": {},
     "output_type": "display_data"
    }
   ],
   "source": [
    "crosstab = pd.crosstab(df[\"SurveyID\"], df[\"treatment\"])\n",
    "crosstab_percentage = crosstab.div(crosstab.sum(axis=1), axis=0) * 100\n",
    "\n",
    "ax = crosstab_percentage.plot(kind=\"bar\", stacked=True, figsize=(6, 4), colormap=\"Set2\")\n",
    "percentage_stacked_bars(ax)\n",
    "\n",
    "plt.title(\"Sought professional treatment for mental health disorder\", fontsize=14)\n",
    "plt.xlabel(\"Survey Year\")\n",
    "plt.ylabel(\"Percentage (%)\")\n",
    "plt.xticks(rotation=0)\n",
    "plt.legend(bbox_to_anchor=(1.05, 1), loc=\"upper left\")\n",
    "\n",
    "plt.tight_layout()\n",
    "plt.show()"
   ]
  },
  {
   "cell_type": "markdown",
   "metadata": {},
   "source": [
    "The share of respondents having sought treatment for a mental health disorder from a mental health professional is rather stable across the surveys and varies between 50% and 60%. However, there is a slight tendency visible that the number increased over the years."
   ]
  },
  {
   "cell_type": "markdown",
   "metadata": {},
   "source": [
    "#### 5.2.1. <a id='toc5_2_1_'></a>[Professional treatment sought and Gender](#toc0_)\n",
    "\n",
    "We want to shed light on those who seek professional treatment for mental health disorder. Therefore we compare its share across the different gender groups:"
   ]
  },
  {
   "cell_type": "code",
   "execution_count": 43,
   "metadata": {},
   "outputs": [
    {
     "data": {
      "image/png": "[encoded data removed]",
      "text/plain": [
       "<Figure size 600x400 with 1 Axes>"
      ]
     },
     "metadata": {},
     "output_type": "display_data"
    }
   ],
   "source": [
    "crosstab = pd.crosstab(df[\"gender_recode\"], df[\"treatment\"])\n",
    "crosstab_percentage = crosstab.div(crosstab.sum(axis=1), axis=0) * 100\n",
    "\n",
    "ax = crosstab_percentage.plot(kind=\"bar\", stacked=True, figsize=(6, 4), colormap=\"Set2\")\n",
    "percentage_stacked_bars(ax)\n",
    "\n",
    "plt.title(\"Sought professional treatment for mental health disorder\", fontsize=14)\n",
    "plt.xlabel(\"Gender\")\n",
    "plt.ylabel(\"Percentage (%)\")\n",
    "plt.xticks(rotation=0)\n",
    "plt.legend(bbox_to_anchor=(1.05, 1), loc=\"upper left\")\n",
    "\n",
    "plt.tight_layout()\n",
    "plt.show()"
   ]
  },
  {
   "cell_type": "markdown",
   "metadata": {},
   "source": [
    "From the normalized stacked bar charts above we can see differences across genders. Further below these differences are expressed in numerics by respondent numbers and further below in percentage for each gender subgroup:"
   ]
  },
  {
   "cell_type": "code",
   "execution_count": 44,
   "metadata": {},
   "outputs": [
    {
     "data": {
      "text/html": [
       "<div>\n",
       "<style scoped>\n",
       "    .dataframe tbody tr th:only-of-type {\n",
       "        vertical-align: middle;\n",
       "    }\n",
       "\n",
       "    .dataframe tbody tr th {\n",
       "        vertical-align: top;\n",
       "    }\n",
       "\n",
       "    .dataframe thead th {\n",
       "        text-align: right;\n",
       "    }\n",
       "</style>\n",
       "<table border=\"1\" class=\"dataframe\">\n",
       "  <thead>\n",
       "    <tr style=\"text-align: right;\">\n",
       "      <th>treatment</th>\n",
       "      <th>no</th>\n",
       "      <th>yes</th>\n",
       "      <th>Total</th>\n",
       "    </tr>\n",
       "    <tr>\n",
       "      <th>gender_recode</th>\n",
       "      <th></th>\n",
       "      <th></th>\n",
       "      <th></th>\n",
       "    </tr>\n",
       "  </thead>\n",
       "  <tbody>\n",
       "    <tr>\n",
       "      <th>female</th>\n",
       "      <td>264</td>\n",
       "      <td>719</td>\n",
       "      <td>983</td>\n",
       "    </tr>\n",
       "    <tr>\n",
       "      <th>male</th>\n",
       "      <td>1476</td>\n",
       "      <td>1536</td>\n",
       "      <td>3012</td>\n",
       "    </tr>\n",
       "    <tr>\n",
       "      <th>non-binary</th>\n",
       "      <td>8</td>\n",
       "      <td>46</td>\n",
       "      <td>54</td>\n",
       "    </tr>\n",
       "    <tr>\n",
       "      <th>other</th>\n",
       "      <td>19</td>\n",
       "      <td>41</td>\n",
       "      <td>60</td>\n",
       "    </tr>\n",
       "    <tr>\n",
       "      <th>Total</th>\n",
       "      <td>1767</td>\n",
       "      <td>2342</td>\n",
       "      <td>4109</td>\n",
       "    </tr>\n",
       "  </tbody>\n",
       "</table>\n",
       "</div>"
      ],
      "text/plain": [
       "treatment        no   yes  Total\n",
       "gender_recode                   \n",
       "female          264   719    983\n",
       "male           1476  1536   3012\n",
       "non-binary        8    46     54\n",
       "other            19    41     60\n",
       "Total          1767  2342   4109"
      ]
     },
     "execution_count": 44,
     "metadata": {},
     "output_type": "execute_result"
    }
   ],
   "source": [
    "crosstab = pd.crosstab(\n",
    "    df[\"gender_recode\"], df[\"treatment\"], margins=True, margins_name=\"Total\"\n",
    ")\n",
    "crosstab"
   ]
  },
  {
   "cell_type": "code",
   "execution_count": 45,
   "metadata": {},
   "outputs": [
    {
     "data": {
      "text/html": [
       "<div>\n",
       "<style scoped>\n",
       "    .dataframe tbody tr th:only-of-type {\n",
       "        vertical-align: middle;\n",
       "    }\n",
       "\n",
       "    .dataframe tbody tr th {\n",
       "        vertical-align: top;\n",
       "    }\n",
       "\n",
       "    .dataframe thead th {\n",
       "        text-align: right;\n",
       "    }\n",
       "</style>\n",
       "<table border=\"1\" class=\"dataframe\">\n",
       "  <thead>\n",
       "    <tr style=\"text-align: right;\">\n",
       "      <th>treatment</th>\n",
       "      <th>no</th>\n",
       "      <th>yes</th>\n",
       "    </tr>\n",
       "    <tr>\n",
       "      <th>gender_recode</th>\n",
       "      <th></th>\n",
       "      <th></th>\n",
       "    </tr>\n",
       "  </thead>\n",
       "  <tbody>\n",
       "    <tr>\n",
       "      <th>female</th>\n",
       "      <td>26.9%</td>\n",
       "      <td>73.1%</td>\n",
       "    </tr>\n",
       "    <tr>\n",
       "      <th>male</th>\n",
       "      <td>49.0%</td>\n",
       "      <td>51.0%</td>\n",
       "    </tr>\n",
       "    <tr>\n",
       "      <th>non-binary</th>\n",
       "      <td>14.8%</td>\n",
       "      <td>85.2%</td>\n",
       "    </tr>\n",
       "    <tr>\n",
       "      <th>other</th>\n",
       "      <td>31.7%</td>\n",
       "      <td>68.3%</td>\n",
       "    </tr>\n",
       "    <tr>\n",
       "      <th>Total</th>\n",
       "      <td>43.0%</td>\n",
       "      <td>57.0%</td>\n",
       "    </tr>\n",
       "  </tbody>\n",
       "</table>\n",
       "</div>"
      ],
      "text/plain": [
       "treatment         no    yes\n",
       "gender_recode              \n",
       "female         26.9%  73.1%\n",
       "male           49.0%  51.0%\n",
       "non-binary     14.8%  85.2%\n",
       "other          31.7%  68.3%\n",
       "Total          43.0%  57.0%"
      ]
     },
     "execution_count": 45,
     "metadata": {},
     "output_type": "execute_result"
    }
   ],
   "source": [
    "from custom_modules.contingency_table import percentage\n",
    "percentage(df, \"gender_recode\", \"treatment\")"
   ]
  },
  {
   "cell_type": "markdown",
   "metadata": {},
   "source": [
    "We can see for example that *females* and *non-binary people* sought much more often professional treatment than males.\n",
    "\n",
    "Consequently we want to test the correlation between these two categorical variables in a chi-square test for independence (also known as Pearson's chi-square test or the chi-square test of association), in order to evaluate if there is a significance in association between both:"
   ]
  },
  {
   "cell_type": "code",
   "execution_count": 46,
   "metadata": {},
   "outputs": [
    {
     "name": "stdout",
     "output_type": "stream",
     "text": [
      "Χ² (3, N = 4109) = 169.46, p = 0.000\n"
     ]
    }
   ],
   "source": [
    "crosstab = pd.crosstab(df[\"gender_recode\"], df[\"treatment\"])\n",
    "\n",
    "chi2, p, dof, expected = chi2_contingency(crosstab)\n",
    "print(f\"Χ² ({dof}, N = {crosstab.sum().sum()}) = {chi2:.2f}, p = {p:.3f}\")"
   ]
  },
  {
   "cell_type": "markdown",
   "metadata": {},
   "source": [
    "The test statistics above show that there is a significant relationship between *gender* and if the respondent *sought for professional treatment of a mental health disorder*. With p-value < 0.05 (significance level of 5%) we can reject the null hypothesis that \"there is no effect of gender in seeking for professional treatment\" and the opposite is the case."
   ]
  },
  {
   "cell_type": "markdown",
   "metadata": {},
   "source": [
    "#### 5.2.2. <a id='toc5_2_2_'></a>[Professional treatment sought and Age](#toc0_)"
   ]
  },
  {
   "cell_type": "markdown",
   "metadata": {},
   "source": [
    "Table below shows that there are no big differences regarding the *Age distribution* between those, who sought professional treatment and those who did not: Measures of centricity (mean and median), spread (standard deviation) and the range (min and max) do not differ much:"
   ]
  },
  {
   "cell_type": "code",
   "execution_count": 47,
   "metadata": {},
   "outputs": [
    {
     "data": {
      "text/html": [
       "<div>\n",
       "<style scoped>\n",
       "    .dataframe tbody tr th:only-of-type {\n",
       "        vertical-align: middle;\n",
       "    }\n",
       "\n",
       "    .dataframe tbody tr th {\n",
       "        vertical-align: top;\n",
       "    }\n",
       "\n",
       "    .dataframe thead th {\n",
       "        text-align: right;\n",
       "    }\n",
       "</style>\n",
       "<table border=\"1\" class=\"dataframe\">\n",
       "  <thead>\n",
       "    <tr style=\"text-align: right;\">\n",
       "      <th></th>\n",
       "      <th>count</th>\n",
       "      <th>mean</th>\n",
       "      <th>std</th>\n",
       "      <th>min</th>\n",
       "      <th>25%</th>\n",
       "      <th>50%</th>\n",
       "      <th>75%</th>\n",
       "      <th>max</th>\n",
       "    </tr>\n",
       "    <tr>\n",
       "      <th>treatment</th>\n",
       "      <th></th>\n",
       "      <th></th>\n",
       "      <th></th>\n",
       "      <th></th>\n",
       "      <th></th>\n",
       "      <th></th>\n",
       "      <th></th>\n",
       "      <th></th>\n",
       "    </tr>\n",
       "  </thead>\n",
       "  <tbody>\n",
       "    <tr>\n",
       "      <th>no</th>\n",
       "      <td>1767.0</td>\n",
       "      <td>33.177702</td>\n",
       "      <td>7.711539</td>\n",
       "      <td>15.0</td>\n",
       "      <td>27.5</td>\n",
       "      <td>32.0</td>\n",
       "      <td>38.0</td>\n",
       "      <td>65.0</td>\n",
       "    </tr>\n",
       "    <tr>\n",
       "      <th>yes</th>\n",
       "      <td>2337.0</td>\n",
       "      <td>34.347882</td>\n",
       "      <td>8.203694</td>\n",
       "      <td>18.0</td>\n",
       "      <td>28.0</td>\n",
       "      <td>33.0</td>\n",
       "      <td>39.0</td>\n",
       "      <td>72.0</td>\n",
       "    </tr>\n",
       "  </tbody>\n",
       "</table>\n",
       "</div>"
      ],
      "text/plain": [
       "            count       mean       std   min   25%   50%   75%   max\n",
       "treatment                                                           \n",
       "no         1767.0  33.177702  7.711539  15.0  27.5  32.0  38.0  65.0\n",
       "yes        2337.0  34.347882  8.203694  18.0  28.0  33.0  39.0  72.0"
      ]
     },
     "execution_count": 47,
     "metadata": {},
     "output_type": "execute_result"
    }
   ],
   "source": [
    "df.groupby(\"treatment\")[\"age\"].describe()"
   ]
  },
  {
   "cell_type": "markdown",
   "metadata": {},
   "source": [
    "However, despite the small differences are hard to interpret, due to the large number of datapoints (counts) even the marginal difference in mean is significant, as we can see from the independent t-test statistic below: "
   ]
  },
  {
   "cell_type": "code",
   "execution_count": 48,
   "metadata": {},
   "outputs": [
    {
     "name": "stdout",
     "output_type": "stream",
     "text": [
      "T-statistic: 4.682, p-value: 0.000\n"
     ]
    }
   ],
   "source": [
    "group_yes = df[df[\"treatment\"] == \"yes\"][\"age\"].dropna()\n",
    "group_no = df[df[\"treatment\"] == \"no\"][\"age\"].dropna()\n",
    "\n",
    "t_stat, p_value = ttest_ind(group_yes, group_no, equal_var=False)\n",
    "\n",
    "print(f\"T-statistic: {t_stat:.3f}, p-value: {p_value:.3f}\")"
   ]
  },
  {
   "cell_type": "markdown",
   "metadata": {},
   "source": [
    "### 5.3. <a id='toc5_3_'></a>[Mental health disorder in the past](#toc0_)"
   ]
  },
  {
   "cell_type": "markdown",
   "metadata": {},
   "source": [
    "The stacked bar chart below shows the distribution of the answers to the question \"Have you had a mental health disorder in the past?\" for each survey year, except of 2014, when it was not asked.\n",
    "\n",
    "Since the number of interviews differ widely across the survey waves, the bars are normalized, showing the percentage for each answer per year:"
   ]
  },
  {
   "cell_type": "code",
   "execution_count": 49,
   "metadata": {},
   "outputs": [
    {
     "data": {
      "image/png": "[encoded data removed]",
      "text/plain": [
       "<Figure size 600x400 with 1 Axes>"
      ]
     },
     "metadata": {},
     "output_type": "display_data"
    }
   ],
   "source": [
    "crosstab = pd.crosstab(df[\"SurveyID\"], df[\"past_disorder\"])\n",
    "crosstab_percentage = crosstab.div(crosstab.sum(axis=1), axis=0) * 100\n",
    "\n",
    "ax = crosstab_percentage.plot(kind=\"bar\", stacked=True, figsize=(6, 4), colormap=\"Set2\")\n",
    "percentage_stacked_bars(ax)\n",
    "\n",
    "plt.title(\"Past mental health disorder\", fontsize=14)\n",
    "plt.xlabel(\"\")\n",
    "plt.ylabel(\"Percentage (%)\")\n",
    "plt.xticks(rotation=0)\n",
    "plt.legend(bbox_to_anchor=(1.05, 1), loc=\"upper left\")\n",
    "\n",
    "plt.tight_layout()\n",
    "plt.show()"
   ]
  },
  {
   "cell_type": "markdown",
   "metadata": {},
   "source": [
    "The share of respondents having mental health disorders in the past is rather stable across the surveys and varies between 40% and 50%. However, there is a slight tendency visible that the number decreased over the years.\n",
    "\n",
    "We also note from above chart that in 2016 there was no 'possibly' answer but only a 'maybe' and most likely also no 'Don`t know' answer choice."
   ]
  },
  {
   "cell_type": "markdown",
   "metadata": {},
   "source": [
    "### 5.4. <a id='toc5_4_'></a>[Current mental health disorder](#toc0_)"
   ]
  },
  {
   "cell_type": "markdown",
   "metadata": {},
   "source": [
    "The stacked bar chart below shows the distribution of the answers to the question \"Do you currently have a mental health disorder?\" for each survey year, except of 2014, when it was not asked.\n",
    "\n",
    "Since the number of interviews differ widely across the survey waves, the bars are normalized, showing the percentage for each answer per year:"
   ]
  },
  {
   "cell_type": "code",
   "execution_count": 50,
   "metadata": {},
   "outputs": [
    {
     "data": {
      "image/png": "[encoded data removed]",
      "text/plain": [
       "<Figure size 600x400 with 1 Axes>"
      ]
     },
     "metadata": {},
     "output_type": "display_data"
    }
   ],
   "source": [
    "crosstab = pd.crosstab(df[\"SurveyID\"], df[\"current_disorder\"])\n",
    "crosstab_percentage = crosstab.div(crosstab.sum(axis=1), axis=0) * 100\n",
    "\n",
    "ax = crosstab_percentage.plot(kind=\"bar\", stacked=True, figsize=(6, 4), colormap=\"Set2\")\n",
    "percentage_stacked_bars(ax)\n",
    "\n",
    "plt.title(\"Current mental health disorder\", fontsize=14)\n",
    "plt.xlabel(\"\")\n",
    "plt.ylabel(\"Percentage (%)\")\n",
    "plt.xticks(rotation=0)\n",
    "plt.legend(bbox_to_anchor=(1.05, 1), loc=\"upper left\")\n",
    "\n",
    "plt.tight_layout()\n",
    "plt.show()"
   ]
  },
  {
   "cell_type": "markdown",
   "metadata": {},
   "source": [
    "The share of respondents having mental health currently is rather stable across the surveys and varies between 40% and 45%. \n",
    "\n",
    "We also note from above chart that in 2016 there was no 'possibly' answer but only a 'maybe' and most likely also no 'Don`t know' answer choice."
   ]
  },
  {
   "cell_type": "markdown",
   "metadata": {},
   "source": [
    "#### 5.4.1. <a id='toc5_4_1_'></a>[Current mental health disorder and Gender](#toc0_)"
   ]
  },
  {
   "cell_type": "markdown",
   "metadata": {},
   "source": [
    "We want to shed light on those who state having currently a mental health disorder. Therefore we compare its share across the different gender groups:"
   ]
  },
  {
   "cell_type": "code",
   "execution_count": 51,
   "metadata": {},
   "outputs": [
    {
     "data": {
      "image/png": "[encoded data removed]",
      "text/plain": [
       "<Figure size 600x400 with 1 Axes>"
      ]
     },
     "metadata": {},
     "output_type": "display_data"
    }
   ],
   "source": [
    "crosstab = pd.crosstab(df[\"gender_recode\"], df[\"current_disorder\"])\n",
    "crosstab_percentage = crosstab.div(crosstab.sum(axis=1), axis=0) * 100\n",
    "\n",
    "ax = crosstab_percentage.plot(kind=\"bar\", stacked=True, figsize=(6, 4), colormap=\"Set2\")\n",
    "percentage_stacked_bars(ax)\n",
    "\n",
    "plt.title(\"Current mental health disorder by Gender\", fontsize=14)\n",
    "plt.xlabel(\"\")\n",
    "plt.ylabel(\"Percentage (%)\")\n",
    "plt.xticks(rotation=0)\n",
    "plt.legend(bbox_to_anchor=(1.05, 1), loc=\"upper left\")\n",
    "\n",
    "plt.tight_layout()\n",
    "plt.show()"
   ]
  },
  {
   "cell_type": "markdown",
   "metadata": {},
   "source": [
    "From the normalized stacked bar charts above we can see differences across genders. Further below these differences are expressed in percentage for each gender subgroup:"
   ]
  },
  {
   "cell_type": "code",
   "execution_count": 52,
   "metadata": {},
   "outputs": [
    {
     "data": {
      "text/html": [
       "<div>\n",
       "<style scoped>\n",
       "    .dataframe tbody tr th:only-of-type {\n",
       "        vertical-align: middle;\n",
       "    }\n",
       "\n",
       "    .dataframe tbody tr th {\n",
       "        vertical-align: top;\n",
       "    }\n",
       "\n",
       "    .dataframe thead th {\n",
       "        text-align: right;\n",
       "    }\n",
       "</style>\n",
       "<table border=\"1\" class=\"dataframe\">\n",
       "  <thead>\n",
       "    <tr style=\"text-align: right;\">\n",
       "      <th>current_disorder</th>\n",
       "      <th>don't know</th>\n",
       "      <th>no</th>\n",
       "      <th>maybe</th>\n",
       "      <th>possibly</th>\n",
       "      <th>yes</th>\n",
       "    </tr>\n",
       "    <tr>\n",
       "      <th>gender_recode</th>\n",
       "      <th></th>\n",
       "      <th></th>\n",
       "      <th></th>\n",
       "      <th></th>\n",
       "      <th></th>\n",
       "    </tr>\n",
       "  </thead>\n",
       "  <tbody>\n",
       "    <tr>\n",
       "      <th>female</th>\n",
       "      <td>3.0%</td>\n",
       "      <td>24.7%</td>\n",
       "      <td>7.9%</td>\n",
       "      <td>9.4%</td>\n",
       "      <td>54.9%</td>\n",
       "    </tr>\n",
       "    <tr>\n",
       "      <th>male</th>\n",
       "      <td>4.8%</td>\n",
       "      <td>36.7%</td>\n",
       "      <td>12.7%</td>\n",
       "      <td>10.1%</td>\n",
       "      <td>35.8%</td>\n",
       "    </tr>\n",
       "    <tr>\n",
       "      <th>non-binary</th>\n",
       "      <td>0.0%</td>\n",
       "      <td>8.3%</td>\n",
       "      <td>6.2%</td>\n",
       "      <td>10.4%</td>\n",
       "      <td>75.0%</td>\n",
       "    </tr>\n",
       "    <tr>\n",
       "      <th>other</th>\n",
       "      <td>5.7%</td>\n",
       "      <td>24.5%</td>\n",
       "      <td>9.4%</td>\n",
       "      <td>15.1%</td>\n",
       "      <td>45.3%</td>\n",
       "    </tr>\n",
       "    <tr>\n",
       "      <th>Total</th>\n",
       "      <td>4.2%</td>\n",
       "      <td>32.9%</td>\n",
       "      <td>11.3%</td>\n",
       "      <td>10.0%</td>\n",
       "      <td>41.5%</td>\n",
       "    </tr>\n",
       "  </tbody>\n",
       "</table>\n",
       "</div>"
      ],
      "text/plain": [
       "current_disorder don't know     no  maybe possibly    yes\n",
       "gender_recode                                            \n",
       "female                 3.0%  24.7%   7.9%     9.4%  54.9%\n",
       "male                   4.8%  36.7%  12.7%    10.1%  35.8%\n",
       "non-binary             0.0%   8.3%   6.2%    10.4%  75.0%\n",
       "other                  5.7%  24.5%   9.4%    15.1%  45.3%\n",
       "Total                  4.2%  32.9%  11.3%    10.0%  41.5%"
      ]
     },
     "execution_count": 52,
     "metadata": {},
     "output_type": "execute_result"
    }
   ],
   "source": [
    "from custom_modules.contingency_table import percentage\n",
    "percentage(df, \"gender_recode\", \"current_disorder\")"
   ]
  },
  {
   "cell_type": "markdown",
   "metadata": {},
   "source": [
    "We can see that the share of *females* and *non-binary people* stating to have mental health disorders is much larger than among males. Only 8% of *non-binary people* state that they do not have mental health disorders while answering the survey."
   ]
  },
  {
   "cell_type": "markdown",
   "metadata": {},
   "source": [
    "Consequently we want to test the correlation between these two categorical variables in a chi-square test for independence (also known as Pearson's chi-square test or the chi-square test of association), in order to evaluate if there is a significance in association between both:"
   ]
  },
  {
   "cell_type": "code",
   "execution_count": 53,
   "metadata": {},
   "outputs": [
    {
     "name": "stdout",
     "output_type": "stream",
     "text": [
      "Χ² (12, N = 2854) = 114.36, p = 0.000\n"
     ]
    }
   ],
   "source": [
    "crosstab = pd.crosstab(df[\"gender_recode\"], df[\"current_disorder\"])\n",
    "\n",
    "chi2, p, dof, expected = chi2_contingency(crosstab)\n",
    "print(f\"Χ² ({dof}, N = {crosstab.sum().sum()}) = {chi2:.2f}, p = {p:.3f}\")"
   ]
  },
  {
   "cell_type": "markdown",
   "metadata": {},
   "source": [
    "The test statistics above show that there is a significant relationship between *gender* and if the respondent is *having currently a mental health disorder*. With p-value < 0.05 (significance level of 5%) we can reject the null hypothesis that \"there is no effect of gender and having currently a mental health disorder\" and the opposite is the case.\n"
   ]
  },
  {
   "cell_type": "markdown",
   "metadata": {},
   "source": [
    "### 5.5. <a id='toc5_5_'></a>[Diagnosed mental health disorder](#toc0_)"
   ]
  },
  {
   "cell_type": "markdown",
   "metadata": {},
   "source": [
    "Looking closer at the answers to the question \"Have you ever been diagnosed with a mental health disorder?\" for each survey year (except of 2014, when it was not asked) reveals another problem in the dataset: Due to the missing documentation we must be careful and check where filters might be inconsistently applied across the survey waves.\n",
    "\n",
    "This is here the case as we can see from the two contingency tables below:"
   ]
  },
  {
   "cell_type": "code",
   "execution_count": 54,
   "metadata": {},
   "outputs": [
    {
     "data": {
      "text/html": [
       "<div>\n",
       "<style scoped>\n",
       "    .dataframe tbody tr th:only-of-type {\n",
       "        vertical-align: middle;\n",
       "    }\n",
       "\n",
       "    .dataframe tbody tr th {\n",
       "        vertical-align: top;\n",
       "    }\n",
       "\n",
       "    .dataframe thead th {\n",
       "        text-align: right;\n",
       "    }\n",
       "</style>\n",
       "<table border=\"1\" class=\"dataframe\">\n",
       "  <thead>\n",
       "    <tr style=\"text-align: right;\">\n",
       "      <th>SurveyID</th>\n",
       "      <th>2016</th>\n",
       "      <th>2017</th>\n",
       "      <th>2018</th>\n",
       "      <th>2019</th>\n",
       "      <th>All</th>\n",
       "    </tr>\n",
       "    <tr>\n",
       "      <th>current_disorder</th>\n",
       "      <th></th>\n",
       "      <th></th>\n",
       "      <th></th>\n",
       "      <th></th>\n",
       "      <th></th>\n",
       "    </tr>\n",
       "  </thead>\n",
       "  <tbody>\n",
       "    <tr>\n",
       "      <th>don't know</th>\n",
       "      <td>0</td>\n",
       "      <td>65</td>\n",
       "      <td>31</td>\n",
       "      <td>25</td>\n",
       "      <td>121</td>\n",
       "    </tr>\n",
       "    <tr>\n",
       "      <th>no</th>\n",
       "      <td>524</td>\n",
       "      <td>206</td>\n",
       "      <td>111</td>\n",
       "      <td>98</td>\n",
       "      <td>939</td>\n",
       "    </tr>\n",
       "    <tr>\n",
       "      <th>maybe</th>\n",
       "      <td>323</td>\n",
       "      <td>0</td>\n",
       "      <td>0</td>\n",
       "      <td>0</td>\n",
       "      <td>323</td>\n",
       "    </tr>\n",
       "    <tr>\n",
       "      <th>possibly</th>\n",
       "      <td>0</td>\n",
       "      <td>135</td>\n",
       "      <td>79</td>\n",
       "      <td>72</td>\n",
       "      <td>286</td>\n",
       "    </tr>\n",
       "    <tr>\n",
       "      <th>yes</th>\n",
       "      <td>568</td>\n",
       "      <td>302</td>\n",
       "      <td>181</td>\n",
       "      <td>134</td>\n",
       "      <td>1185</td>\n",
       "    </tr>\n",
       "    <tr>\n",
       "      <th>All</th>\n",
       "      <td>1415</td>\n",
       "      <td>708</td>\n",
       "      <td>402</td>\n",
       "      <td>329</td>\n",
       "      <td>2854</td>\n",
       "    </tr>\n",
       "  </tbody>\n",
       "</table>\n",
       "</div>"
      ],
      "text/plain": [
       "SurveyID          2016  2017  2018  2019   All\n",
       "current_disorder                              \n",
       "don't know           0    65    31    25   121\n",
       "no                 524   206   111    98   939\n",
       "maybe              323     0     0     0   323\n",
       "possibly             0   135    79    72   286\n",
       "yes                568   302   181   134  1185\n",
       "All               1415   708   402   329  2854"
      ]
     },
     "execution_count": 54,
     "metadata": {},
     "output_type": "execute_result"
    }
   ],
   "source": [
    "pd.crosstab(df[\"current_disorder\"], df[\"SurveyID\"], margins=True)"
   ]
  },
  {
   "cell_type": "code",
   "execution_count": 55,
   "metadata": {},
   "outputs": [
    {
     "data": {
      "text/html": [
       "<div>\n",
       "<style scoped>\n",
       "    .dataframe tbody tr th:only-of-type {\n",
       "        vertical-align: middle;\n",
       "    }\n",
       "\n",
       "    .dataframe tbody tr th {\n",
       "        vertical-align: top;\n",
       "    }\n",
       "\n",
       "    .dataframe thead th {\n",
       "        text-align: right;\n",
       "    }\n",
       "</style>\n",
       "<table border=\"1\" class=\"dataframe\">\n",
       "  <thead>\n",
       "    <tr style=\"text-align: right;\">\n",
       "      <th>SurveyID</th>\n",
       "      <th>2016</th>\n",
       "      <th>2017</th>\n",
       "      <th>2018</th>\n",
       "      <th>2019</th>\n",
       "      <th>All</th>\n",
       "    </tr>\n",
       "    <tr>\n",
       "      <th>diagnosed_disorder</th>\n",
       "      <th></th>\n",
       "      <th></th>\n",
       "      <th></th>\n",
       "      <th></th>\n",
       "      <th></th>\n",
       "    </tr>\n",
       "  </thead>\n",
       "  <tbody>\n",
       "    <tr>\n",
       "      <th>no</th>\n",
       "      <td>707</td>\n",
       "      <td>9</td>\n",
       "      <td>2</td>\n",
       "      <td>2</td>\n",
       "      <td>720</td>\n",
       "    </tr>\n",
       "    <tr>\n",
       "      <th>yes</th>\n",
       "      <td>708</td>\n",
       "      <td>293</td>\n",
       "      <td>179</td>\n",
       "      <td>132</td>\n",
       "      <td>1312</td>\n",
       "    </tr>\n",
       "    <tr>\n",
       "      <th>All</th>\n",
       "      <td>1415</td>\n",
       "      <td>302</td>\n",
       "      <td>181</td>\n",
       "      <td>134</td>\n",
       "      <td>2032</td>\n",
       "    </tr>\n",
       "  </tbody>\n",
       "</table>\n",
       "</div>"
      ],
      "text/plain": [
       "SurveyID            2016  2017  2018  2019   All\n",
       "diagnosed_disorder                              \n",
       "no                   707     9     2     2   720\n",
       "yes                  708   293   179   132  1312\n",
       "All                 1415   302   181   134  2032"
      ]
     },
     "execution_count": 55,
     "metadata": {},
     "output_type": "execute_result"
    }
   ],
   "source": [
    "pd.crosstab(df[\"diagnosed_disorder\"], df[\"SurveyID\"], margins=True)"
   ]
  },
  {
   "cell_type": "markdown",
   "metadata": {},
   "source": [
    "We can see that in 2016 all respondents where asked the question about diagnosed disorders. However, in the subsequent survey years only the respondents were asked this question who answered in the previous question \"yes\" regarding having a disorder currently. Therefore we must clean this data for 2016 by applying a consistent filter:"
   ]
  },
  {
   "cell_type": "code",
   "execution_count": 56,
   "metadata": {},
   "outputs": [],
   "source": [
    "df[\"diagnosed_disorder\"] = np.where(\n",
    "    (df[\"current_disorder\"] != \"yes\") & (df[\"SurveyID\"] == \"2016\"),\n",
    "    None,\n",
    "    df[\"diagnosed_disorder\"],\n",
    ")"
   ]
  },
  {
   "cell_type": "code",
   "execution_count": 57,
   "metadata": {},
   "outputs": [
    {
     "data": {
      "text/html": [
       "<div>\n",
       "<style scoped>\n",
       "    .dataframe tbody tr th:only-of-type {\n",
       "        vertical-align: middle;\n",
       "    }\n",
       "\n",
       "    .dataframe tbody tr th {\n",
       "        vertical-align: top;\n",
       "    }\n",
       "\n",
       "    .dataframe thead th {\n",
       "        text-align: right;\n",
       "    }\n",
       "</style>\n",
       "<table border=\"1\" class=\"dataframe\">\n",
       "  <thead>\n",
       "    <tr style=\"text-align: right;\">\n",
       "      <th>SurveyID</th>\n",
       "      <th>2016</th>\n",
       "      <th>2017</th>\n",
       "      <th>2018</th>\n",
       "      <th>2019</th>\n",
       "      <th>All</th>\n",
       "    </tr>\n",
       "    <tr>\n",
       "      <th>diagnosed_disorder</th>\n",
       "      <th></th>\n",
       "      <th></th>\n",
       "      <th></th>\n",
       "      <th></th>\n",
       "      <th></th>\n",
       "    </tr>\n",
       "  </thead>\n",
       "  <tbody>\n",
       "    <tr>\n",
       "      <th>no</th>\n",
       "      <td>63</td>\n",
       "      <td>9</td>\n",
       "      <td>2</td>\n",
       "      <td>2</td>\n",
       "      <td>76</td>\n",
       "    </tr>\n",
       "    <tr>\n",
       "      <th>yes</th>\n",
       "      <td>505</td>\n",
       "      <td>293</td>\n",
       "      <td>179</td>\n",
       "      <td>132</td>\n",
       "      <td>1109</td>\n",
       "    </tr>\n",
       "    <tr>\n",
       "      <th>All</th>\n",
       "      <td>568</td>\n",
       "      <td>302</td>\n",
       "      <td>181</td>\n",
       "      <td>134</td>\n",
       "      <td>1185</td>\n",
       "    </tr>\n",
       "  </tbody>\n",
       "</table>\n",
       "</div>"
      ],
      "text/plain": [
       "SurveyID            2016  2017  2018  2019   All\n",
       "diagnosed_disorder                              \n",
       "no                    63     9     2     2    76\n",
       "yes                  505   293   179   132  1109\n",
       "All                  568   302   181   134  1185"
      ]
     },
     "execution_count": 57,
     "metadata": {},
     "output_type": "execute_result"
    }
   ],
   "source": [
    "pd.crosstab(df[\"diagnosed_disorder\"], df[\"SurveyID\"], margins=True)"
   ]
  },
  {
   "cell_type": "markdown",
   "metadata": {},
   "source": [
    "The stacked bar chart below shows the distribution of the corrected answers. Since the number of interviews differ widely across the survey waves, the bars are normalized, showing the percentage for each answer per year:"
   ]
  },
  {
   "cell_type": "code",
   "execution_count": 58,
   "metadata": {},
   "outputs": [
    {
     "data": {
      "image/png": "[encoded data removed]",
      "text/plain": [
       "<Figure size 600x400 with 1 Axes>"
      ]
     },
     "metadata": {},
     "output_type": "display_data"
    }
   ],
   "source": [
    "crosstab = pd.crosstab(df[\"SurveyID\"], df[\"diagnosed_disorder\"])\n",
    "crosstab_percentage = crosstab.div(crosstab.sum(axis=1), axis=0) * 100\n",
    "\n",
    "ax = crosstab_percentage.plot(kind=\"bar\", stacked=True, figsize=(6, 4), colormap=\"Set2\")\n",
    "percentage_stacked_bars(ax, threshold=2)\n",
    "\n",
    "plt.title(\"Diagnosed mental health disorder\", fontsize=14)\n",
    "plt.xlabel(\"\")\n",
    "plt.ylabel(\"Percentage (%)\")\n",
    "plt.xticks(rotation=0)\n",
    "plt.legend(bbox_to_anchor=(1.05, 1), loc=\"upper left\")\n",
    "\n",
    "plt.tight_layout()\n",
    "plt.show()"
   ]
  },
  {
   "cell_type": "markdown",
   "metadata": {},
   "source": [
    "The vast majority of those currently facing a mental health disorder have also been diagnosed with one. There is also a trend visible in the chart above, since the share has increased from 90% to nearly 100%. \n",
    "\n",
    "We want to test if this change is significant, since the number of interviews also decreased throughout the survey years. We are using the *Cochran-Armitage Trend Test* for this purpose. This test is specifically designed to detect a trend in proportions across ordered categories (like years). It can be used to test whether there is a linear trend in the probability of diagnosed treatment across different survey years."
   ]
  },
  {
   "cell_type": "code",
   "execution_count": 59,
   "metadata": {},
   "outputs": [
    {
     "name": "stdout",
     "output_type": "stream",
     "text": [
      "Cochran-Armitage Trend Test: Z = 4.89, p-value = 0.000\n"
     ]
    }
   ],
   "source": [
    "crosstab = pd.crosstab(df[\"SurveyID\"], df[\"diagnosed_disorder\"])\n",
    "\n",
    "yes_counts = crosstab[\"yes\"].values\n",
    "no_counts = crosstab[\"no\"].values\n",
    "\n",
    "n = yes_counts + no_counts\n",
    "\n",
    "# Assign weights (ordinal numbers) to each year\n",
    "weights = np.arange(len(yes_counts))\n",
    "\n",
    "# Cochran-Armitage Trend Test Calculation\n",
    "p_hat = yes_counts / n  # Proportion of 'yes' per year\n",
    "p_bar = np.sum(yes_counts) / np.sum(n)  # Overall proportion\n",
    "\n",
    "# Numerator: weighted sum of differences from the overall proportion\n",
    "numerator = np.sum(weights * (p_hat - p_bar) * n)\n",
    "\n",
    "# Denominator: standard deviation of the trend statistic\n",
    "denominator = np.sqrt(\n",
    "    np.sum(n * p_bar * (1 - p_bar) * (weights - np.mean(weights)) ** 2)\n",
    ")\n",
    "\n",
    "z_score = numerator / denominator\n",
    "\n",
    "# p-value from Z-score (two-tailed test)\n",
    "p_value = 2 * norm.sf(abs(z_score))\n",
    "\n",
    "print(f\"Cochran-Armitage Trend Test: Z = {z_score:.2f}, p-value = {p_value:.3f}\")"
   ]
  },
  {
   "cell_type": "markdown",
   "metadata": {},
   "source": [
    "The Cochran-Armitage Trend Test was conducted to assess whether there is a significant linear trend between survey year and the proportion of respondents diagnosed with a disorder. The test revealed a statistically significant positive trend, Z = 4.88, p < 0.001, indicating that the likelihood of being diagnosed with a disorder increased consistently across survey years."
   ]
  },
  {
   "cell_type": "markdown",
   "metadata": {},
   "source": [
    "### 5.6. <a id='toc5_6_'></a>[Mental health disorder: A first summary](#toc0_)"
   ]
  },
  {
   "cell_type": "markdown",
   "metadata": {},
   "source": [
    "This latest statement could give an indication about an interesting phenomenon that we could only analyse in further research: Perhaps mental health disorders have been widely more recognized in the public discourse in recent years and consequently the people, who are facing them, are seeking more often professional treatment. This is supported by the previous few time analysis charts, showing that the share of those, who currently have a mental health disorder, is rather stable over time. On the other hand, the share of those seeking professional treatment slightly increased."
   ]
  },
  {
   "cell_type": "markdown",
   "metadata": {},
   "source": [
    "Two out of five respondents working in the tech/IT-field were facing a mental health disorder when participating in this survey. This rate is even significantly much higher among females and non-binary people. That is actually very alarming. We look more in detail on particular types of mental health disorders (diseases) in the next chapter when analysing prevalence rates. By doing this, we evaluate if these alarming high numbers of mental health disorders are a particular characteristic of the sample and target population or just describe the state in the overall population."
   ]
  },
  {
   "cell_type": "markdown",
   "metadata": {},
   "source": [
    "## 6. <a id='toc6_'></a>[Analysis of the prevalence rate of mental diseases](#toc0_)"
   ]
  },
  {
   "cell_type": "markdown",
   "metadata": {},
   "source": [
    "### 6.1. <a id='toc6_1_'></a>[Prevalence rate of mental diseases](#toc0_)"
   ]
  },
  {
   "cell_type": "markdown",
   "metadata": {},
   "source": [
    "The *prevalence* is the proportion of a particular population found to be affected by a medical condition (typically a disease or a risk factor) at a specific time. It is derived by comparing the number of people found to have the condition with the total number of people studied."
   ]
  },
  {
   "cell_type": "markdown",
   "metadata": {},
   "source": [
    "Mental diseases are asked about in QuestionID 115: \"If yes, what condition(s) have you been diagnosed with?\". This question was only asked in the survey wave of 2016, thus the specified time for this particular analysis is the survey period in the year 2016. \n",
    "\n",
    "Moreover, the question 115 was only asked to those who answered in question 33 that they have currently a mental health disorder. However, question 33 only asked about the self-assessment of the mental condition of the respondent, without any diagnosis from a professional. The following table shows that n=63 respondents state having currently a mental health disorder without being actually diagnosed:\n"
   ]
  },
  {
   "cell_type": "code",
   "execution_count": 60,
   "metadata": {},
   "outputs": [
    {
     "data": {
      "text/html": [
       "<div>\n",
       "<style scoped>\n",
       "    .dataframe tbody tr th:only-of-type {\n",
       "        vertical-align: middle;\n",
       "    }\n",
       "\n",
       "    .dataframe tbody tr th {\n",
       "        vertical-align: top;\n",
       "    }\n",
       "\n",
       "    .dataframe thead th {\n",
       "        text-align: right;\n",
       "    }\n",
       "</style>\n",
       "<table border=\"1\" class=\"dataframe\">\n",
       "  <thead>\n",
       "    <tr style=\"text-align: right;\">\n",
       "      <th>current_disorder</th>\n",
       "      <th>yes</th>\n",
       "    </tr>\n",
       "    <tr>\n",
       "      <th>diagnosed_disorder</th>\n",
       "      <th></th>\n",
       "    </tr>\n",
       "  </thead>\n",
       "  <tbody>\n",
       "    <tr>\n",
       "      <th>no</th>\n",
       "      <td>63</td>\n",
       "    </tr>\n",
       "    <tr>\n",
       "      <th>yes</th>\n",
       "      <td>505</td>\n",
       "    </tr>\n",
       "  </tbody>\n",
       "</table>\n",
       "</div>"
      ],
      "text/plain": [
       "current_disorder    yes\n",
       "diagnosed_disorder     \n",
       "no                   63\n",
       "yes                 505"
      ]
     },
     "execution_count": 60,
     "metadata": {},
     "output_type": "execute_result"
    }
   ],
   "source": [
    "pd.crosstab(df[\"diagnosed_disorder\"][df[\"SurveyID\"] == \"2016\"], df[\"current_disorder\"])"
   ]
  },
  {
   "cell_type": "markdown",
   "metadata": {},
   "source": [
    "To correctly assess the prevalence we want to disregard the answers from these n=63 respondents and look only on the diagnosed mental diseases:"
   ]
  },
  {
   "cell_type": "code",
   "execution_count": 61,
   "metadata": {},
   "outputs": [
    {
     "data": {
      "text/plain": [
       "568"
      ]
     },
     "execution_count": 61,
     "metadata": {},
     "output_type": "execute_result"
    }
   ],
   "source": [
    "df_2016 = df[df[\"SurveyID\"] == \"2016\"]\n",
    "df_q115_filtered = df_2016[df_2016[\"current_disorder\"] == \"yes\"]\n",
    "df_q115_filtered.shape[0]"
   ]
  },
  {
   "cell_type": "code",
   "execution_count": 62,
   "metadata": {},
   "outputs": [
    {
     "data": {
      "text/plain": [
       "mood disorder (depression, bipolar disorder, etc)               409\n",
       "anxiety disorder (generalized, social, phobia, etc)             340\n",
       "attention deficit hyperactivity disorder                        120\n",
       "post-traumatic stress disorder                                   68\n",
       "obsessive-compulsive disorder                                    45\n",
       "substance use disorder                                           39\n",
       "stress response syndromes                                        37\n",
       "addictive disorder                                               35\n",
       "personality disorder (borderline, antisocial, paranoid, etc)     35\n",
       "eating disorder (anorexia, bulimia, etc)                         27\n",
       "Name: count, dtype: int64"
      ]
     },
     "execution_count": 62,
     "metadata": {},
     "output_type": "execute_result"
    }
   ],
   "source": [
    "columns_115 = [\n",
    "    \"115_a1\",\n",
    "    \"115_a2\",\n",
    "    \"115_a3\",\n",
    "    \"115_a4\",\n",
    "    \"115_a5\",\n",
    "    \"115_a6\",\n",
    "    \"115_a7\",\n",
    "    \"115_a8\",\n",
    "    \"115_a9\",\n",
    "]\n",
    "pd.concat([df_q115_filtered[col] for col in columns_115]).value_counts().head(10)"
   ]
  },
  {
   "cell_type": "markdown",
   "metadata": {},
   "source": [
    "The list above shows the 10 diseases most often mentioned by the respondents. The question was asked open ended, subsequently coded and as a consequence multiple diseases per respondent are possible."
   ]
  },
  {
   "cell_type": "markdown",
   "metadata": {},
   "source": [
    "We choose the top 3 diseases *mood disorder (depression, bipolar disorder, etc)*, *anxiety disorder (generalized, social, phobia, etc)* and *attention deficit hyperactivity disorder*, and want to calculate the prevalence rate for them. This procedure needs three steps that are described further:"
   ]
  },
  {
   "cell_type": "markdown",
   "metadata": {},
   "source": [
    "**Step 1, Format the data:** \n",
    "\n",
    "We aggregate the data to get the counts (or proportions) for each disease group:\n"
   ]
  },
  {
   "cell_type": "code",
   "execution_count": 63,
   "metadata": {},
   "outputs": [],
   "source": [
    "df_2016[\"15_mood_disorder\"] = df_2016.apply(\n",
    "    lambda row: (\n",
    "        \"yes\"\n",
    "        if row[\"current_disorder\"] == \"yes\"\n",
    "        and \"mood disorder (depression, bipolar disorder, etc)\"\n",
    "        in row[columns_115].dropna().values\n",
    "        else \"no\"\n",
    "    ),\n",
    "    axis=1,\n",
    ")\n",
    "\n",
    "df_2016[\"15_anxiety_disorder\"] = df_2016.apply(\n",
    "    lambda row: (\n",
    "        \"yes\"\n",
    "        if row[\"current_disorder\"] == \"yes\"\n",
    "        and \"anxiety disorder (generalized, social, phobia, etc)\"\n",
    "        in row[columns_115].dropna().values\n",
    "        else \"no\"\n",
    "    ),\n",
    "    axis=1,\n",
    ")\n",
    "\n",
    "df_2016[\"15_adhd\"] = df_2016.apply(\n",
    "    lambda row: (\n",
    "        \"yes\"\n",
    "        if row[\"current_disorder\"] == \"yes\"\n",
    "        and \"attention deficit hyperactivity disorder\"\n",
    "        in row[columns_115].dropna().values\n",
    "        else \"no\"\n",
    "    ),\n",
    "    axis=1,\n",
    ")"
   ]
  },
  {
   "cell_type": "code",
   "execution_count": 64,
   "metadata": {},
   "outputs": [],
   "source": [
    "counts = df_2016[[\"15_mood_disorder\", \"15_anxiety_disorder\", \"15_adhd\"]].apply(\n",
    "    lambda col: col.value_counts(normalize=True).get(\"yes\", 0)\n",
    ")\n",
    "counts_df = pd.DataFrame(counts, columns=[\"proportion\"]).reset_index()\n",
    "counts_df.rename(columns={\"index\": \"group\"}, inplace=True)"
   ]
  },
  {
   "cell_type": "markdown",
   "metadata": {},
   "source": [
    "**Step 2, Calculate the confidence intervals:**\n",
    "We can calculate confidence intervals using the statistical method of the binomial confidence interval, because we analyse *proportions* (working with means would require the standard error approach).\n",
    "\n",
    "Using the binomial distribution we compute the standard error and then calculate the upper and lower bounds for a 95% confidence interval (CI). The standard error (SE) quantifies how much the sample proportion is expected to vary from the true population proportion. A 95% confidence interval gives you a range of values within which you can be 95% confident that the true population proportion lies. For a 95% confidence level, the Z-score (from the standard normal distribution) is approximately 1.96. This means that the upper bound is calculated as the proportion plus 1.96 times the standard error, while the lower bound is calculated as the proportion minus 1.96 times the standard error:"
   ]
  },
  {
   "cell_type": "code",
   "execution_count": 65,
   "metadata": {},
   "outputs": [
    {
     "data": {
      "text/html": [
       "<div>\n",
       "<style scoped>\n",
       "    .dataframe tbody tr th:only-of-type {\n",
       "        vertical-align: middle;\n",
       "    }\n",
       "\n",
       "    .dataframe tbody tr th {\n",
       "        vertical-align: top;\n",
       "    }\n",
       "\n",
       "    .dataframe thead th {\n",
       "        text-align: right;\n",
       "    }\n",
       "</style>\n",
       "<table border=\"1\" class=\"dataframe\">\n",
       "  <thead>\n",
       "    <tr style=\"text-align: right;\">\n",
       "      <th></th>\n",
       "      <th>group</th>\n",
       "      <th>proportion</th>\n",
       "      <th>se</th>\n",
       "      <th>ci_upper</th>\n",
       "      <th>ci_lower</th>\n",
       "    </tr>\n",
       "  </thead>\n",
       "  <tbody>\n",
       "    <tr>\n",
       "      <th>0</th>\n",
       "      <td>15_mood_disorder</td>\n",
       "      <td>0.289046</td>\n",
       "      <td>0.012051</td>\n",
       "      <td>0.312666</td>\n",
       "      <td>0.265426</td>\n",
       "    </tr>\n",
       "    <tr>\n",
       "      <th>1</th>\n",
       "      <td>15_anxiety_disorder</td>\n",
       "      <td>0.240283</td>\n",
       "      <td>0.011358</td>\n",
       "      <td>0.262545</td>\n",
       "      <td>0.218021</td>\n",
       "    </tr>\n",
       "    <tr>\n",
       "      <th>2</th>\n",
       "      <td>15_adhd</td>\n",
       "      <td>0.084806</td>\n",
       "      <td>0.007406</td>\n",
       "      <td>0.099322</td>\n",
       "      <td>0.070290</td>\n",
       "    </tr>\n",
       "  </tbody>\n",
       "</table>\n",
       "</div>"
      ],
      "text/plain": [
       "                 group  proportion        se  ci_upper  ci_lower\n",
       "0     15_mood_disorder    0.289046  0.012051  0.312666  0.265426\n",
       "1  15_anxiety_disorder    0.240283  0.011358  0.262545  0.218021\n",
       "2              15_adhd    0.084806  0.007406  0.099322  0.070290"
      ]
     },
     "execution_count": 65,
     "metadata": {},
     "output_type": "execute_result"
    }
   ],
   "source": [
    "n = len(df_2016)\n",
    "\n",
    "counts_df[\"se\"] = np.sqrt((counts_df[\"proportion\"] * (1 - counts_df[\"proportion\"])) / n)\n",
    "counts_df[\"ci_upper\"] = counts_df[\"proportion\"] + 1.96 * counts_df[\"se\"]\n",
    "counts_df[\"ci_lower\"] = counts_df[\"proportion\"] - 1.96 * counts_df[\"se\"]\n",
    "counts_df"
   ]
  },
  {
   "cell_type": "markdown",
   "metadata": {},
   "source": [
    "**Step 3, Plot a bar chart:**\n",
    "\n",
    "We display all three disease prevalences as bars with their proportions described in percentages (bold). The plot also displays the Confidence interval (italic) and error bar for each disease prevalence:"
   ]
  },
  {
   "cell_type": "code",
   "execution_count": 66,
   "metadata": {},
   "outputs": [
    {
     "data": {
      "image/png": "[encoded data removed]",
      "text/plain": [
       "<Figure size 500x500 with 1 Axes>"
      ]
     },
     "metadata": {},
     "output_type": "display_data"
    }
   ],
   "source": [
    "new_labels = [\"Mood Disorder\", \"Anxiety Disorder\", \"ADHD\"]\n",
    "\n",
    "plt.figure(figsize=(5, 5))\n",
    "bar_plot = sns.barplot(\n",
    "    x=\"group\", y=\"proportion\", data=counts_df, capsize=0.2, palette=\"Set2\"\n",
    ")\n",
    "\n",
    "from custom_modules.plot_formatting import ci_bar, estimates_bar\n",
    "ci_bar(counts_df)\n",
    "estimates_bar(counts_df, bar_plot)\n",
    "\n",
    "plt.yticks([])\n",
    "plt.title(\"Prevalence of the top 3 mental diseases in 2016\")\n",
    "plt.ylim(0, 0.4)\n",
    "plt.xlabel(\"\")\n",
    "plt.ylabel(\"\")\n",
    "bar_plot.set_xticklabels(new_labels, rotation=0)\n",
    "\n",
    "for spine in bar_plot.spines.values():\n",
    "    spine.set_visible(False)\n",
    "bar_plot.spines[\"bottom\"].set_visible(True)\n",
    "\n",
    "plt.tight_layout()\n",
    "plt.show()"
   ]
  },
  {
   "cell_type": "markdown",
   "metadata": {},
   "source": [
    "We can interpret the prevalence of the three diseases as following: \n",
    "\n",
    "**Mood Disorder**\n",
    "\n",
    "The *Mood Disorder* is the most prevalent mental health disease diagnosed among the survey population. More than every fourth person was diagnosed with this disease. The 95% Confidence interval gives us enough certainty to assume that the proportion of this disease in the survey population lies between 27% and 31%, centered at 28.9%. Though\n",
    "these numbers seem alarming high they are just slightly higher than i.e. U.S.national population figures, where \"[an estimated 21.4% of adults will experience a mood disorder at some point in their life](https://www.therecoveryvillage.com/mental-health/mood-disorders/mood-disorders-statistics/)\".\n",
    "\n",
    "**Anxiety Disorder**\n",
    "\n",
    "The *Anxiety Disorder* is the second most prevalent health disease diagnosed. The 95% Confidence interval gives us enough certainty to assume that the proportion of this disease in the survey population lies between 22% and 26%, centered at 24%. These figures also follow national U.S. estimates, which range in other studies between [19.1%](https://www.nami.org/about-mental-illness/mental-health-conditions/anxiety-disorders/) and [34%](https://www.sciencedirect.com/topics/psychology/prevalence-of-anxiety).\n",
    "\n",
    "**Attention Deficit Hyperactivity Disorder**\n",
    "\n",
    "Less than one out of ten people in the population were diagnosed with *Attention Deficit Hyperactivity Disorder*. The 95% Confidence interval gives us enough certainty to assume that the proportion of this disease in the survey population lies between 7% and 10%, centered at 8.5%. ADHD prevalence rates are higher among children but not the disease is not unusual among adults, particularly in the U.S. Studies vary in their estimates between [2% and 5%](https://www.sciencedirect.com/science/article/pii/S0165178123003992)."
   ]
  },
  {
   "cell_type": "markdown",
   "metadata": {},
   "source": [
    "### 6.2. <a id='toc6_2_'></a>[Gender differences in the prevalence rates of mental diseases](#toc0_)"
   ]
  },
  {
   "cell_type": "markdown",
   "metadata": {},
   "source": [
    "#### 6.2.1. <a id='toc6_2_1_'></a>[Mood disorder](#toc0_)"
   ]
  },
  {
   "cell_type": "markdown",
   "metadata": {},
   "source": [
    "We have a quick look at the observations of diagnosed *Mood disorder* in each gender group:"
   ]
  },
  {
   "cell_type": "code",
   "execution_count": 67,
   "metadata": {},
   "outputs": [
    {
     "data": {
      "text/html": [
       "<div>\n",
       "<style scoped>\n",
       "    .dataframe tbody tr th:only-of-type {\n",
       "        vertical-align: middle;\n",
       "    }\n",
       "\n",
       "    .dataframe tbody tr th {\n",
       "        vertical-align: top;\n",
       "    }\n",
       "\n",
       "    .dataframe thead th {\n",
       "        text-align: right;\n",
       "    }\n",
       "</style>\n",
       "<table border=\"1\" class=\"dataframe\">\n",
       "  <thead>\n",
       "    <tr style=\"text-align: right;\">\n",
       "      <th>15_mood_disorder</th>\n",
       "      <th>no</th>\n",
       "      <th>yes</th>\n",
       "      <th>All</th>\n",
       "    </tr>\n",
       "    <tr>\n",
       "      <th>gender_recode</th>\n",
       "      <th></th>\n",
       "      <th></th>\n",
       "      <th></th>\n",
       "    </tr>\n",
       "  </thead>\n",
       "  <tbody>\n",
       "    <tr>\n",
       "      <th>female</th>\n",
       "      <td>186</td>\n",
       "      <td>147</td>\n",
       "      <td>333</td>\n",
       "    </tr>\n",
       "    <tr>\n",
       "      <th>male</th>\n",
       "      <td>807</td>\n",
       "      <td>244</td>\n",
       "      <td>1051</td>\n",
       "    </tr>\n",
       "    <tr>\n",
       "      <th>non-binary</th>\n",
       "      <td>6</td>\n",
       "      <td>11</td>\n",
       "      <td>17</td>\n",
       "    </tr>\n",
       "    <tr>\n",
       "      <th>other</th>\n",
       "      <td>7</td>\n",
       "      <td>7</td>\n",
       "      <td>14</td>\n",
       "    </tr>\n",
       "    <tr>\n",
       "      <th>All</th>\n",
       "      <td>1006</td>\n",
       "      <td>409</td>\n",
       "      <td>1415</td>\n",
       "    </tr>\n",
       "  </tbody>\n",
       "</table>\n",
       "</div>"
      ],
      "text/plain": [
       "15_mood_disorder    no  yes   All\n",
       "gender_recode                    \n",
       "female             186  147   333\n",
       "male               807  244  1051\n",
       "non-binary           6   11    17\n",
       "other                7    7    14\n",
       "All               1006  409  1415"
      ]
     },
     "execution_count": 67,
     "metadata": {},
     "output_type": "execute_result"
    }
   ],
   "source": [
    "pd.crosstab(\n",
    "    df_2016[\"gender_recode\"],\n",
    "    df_2016[\"15_mood_disorder\"],\n",
    "    margins=True,\n",
    ")"
   ]
  },
  {
   "cell_type": "markdown",
   "metadata": {},
   "source": [
    "Calculating and plotting the prevalence rates of Mood disorder in the survey population across the Gender groups reveals significant differences:"
   ]
  },
  {
   "cell_type": "code",
   "execution_count": 68,
   "metadata": {},
   "outputs": [
    {
     "data": {
      "text/html": [
       "<div>\n",
       "<style scoped>\n",
       "    .dataframe tbody tr th:only-of-type {\n",
       "        vertical-align: middle;\n",
       "    }\n",
       "\n",
       "    .dataframe tbody tr th {\n",
       "        vertical-align: top;\n",
       "    }\n",
       "\n",
       "    .dataframe thead th {\n",
       "        text-align: right;\n",
       "    }\n",
       "</style>\n",
       "<table border=\"1\" class=\"dataframe\">\n",
       "  <thead>\n",
       "    <tr style=\"text-align: right;\">\n",
       "      <th></th>\n",
       "      <th>gender_recode</th>\n",
       "      <th>proportion</th>\n",
       "      <th>se</th>\n",
       "      <th>ci_upper</th>\n",
       "      <th>ci_lower</th>\n",
       "    </tr>\n",
       "  </thead>\n",
       "  <tbody>\n",
       "    <tr>\n",
       "      <th>0</th>\n",
       "      <td>female</td>\n",
       "      <td>0.441441</td>\n",
       "      <td>0.027211</td>\n",
       "      <td>0.494776</td>\n",
       "      <td>0.388107</td>\n",
       "    </tr>\n",
       "    <tr>\n",
       "      <th>1</th>\n",
       "      <td>male</td>\n",
       "      <td>0.232160</td>\n",
       "      <td>0.013023</td>\n",
       "      <td>0.257686</td>\n",
       "      <td>0.206634</td>\n",
       "    </tr>\n",
       "    <tr>\n",
       "      <th>2</th>\n",
       "      <td>non-binary</td>\n",
       "      <td>0.647059</td>\n",
       "      <td>0.115904</td>\n",
       "      <td>0.874231</td>\n",
       "      <td>0.419887</td>\n",
       "    </tr>\n",
       "    <tr>\n",
       "      <th>3</th>\n",
       "      <td>other</td>\n",
       "      <td>0.500000</td>\n",
       "      <td>0.133631</td>\n",
       "      <td>0.761916</td>\n",
       "      <td>0.238084</td>\n",
       "    </tr>\n",
       "  </tbody>\n",
       "</table>\n",
       "</div>"
      ],
      "text/plain": [
       "  gender_recode  proportion        se  ci_upper  ci_lower\n",
       "0        female    0.441441  0.027211  0.494776  0.388107\n",
       "1          male    0.232160  0.013023  0.257686  0.206634\n",
       "2    non-binary    0.647059  0.115904  0.874231  0.419887\n",
       "3         other    0.500000  0.133631  0.761916  0.238084"
      ]
     },
     "execution_count": 68,
     "metadata": {},
     "output_type": "execute_result"
    }
   ],
   "source": [
    "counts = (\n",
    "    df_2016.groupby(\"gender_recode\")[\"15_mood_disorder\"]\n",
    "    .value_counts(normalize=True)\n",
    "    .unstack(fill_value=0)[\"yes\"]\n",
    ")\n",
    "\n",
    "counts_df = counts.reset_index()\n",
    "counts_df.columns = [\"gender_recode\", \"proportion\"]\n",
    "\n",
    "n = df_2016.groupby(\"gender_recode\")[\"15_mood_disorder\"].count()\n",
    "\n",
    "counts_df[\"se\"] = np.sqrt(\n",
    "    (counts_df[\"proportion\"]) * (1 - counts_df[\"proportion\"]) / n.values\n",
    ")\n",
    "counts_df[\"ci_upper\"] = counts_df[\"proportion\"] + 1.96 * counts_df[\"se\"]\n",
    "counts_df[\"ci_lower\"] = counts_df[\"proportion\"] - 1.96 * counts_df[\"se\"]\n",
    "\n",
    "counts_df"
   ]
  },
  {
   "cell_type": "code",
   "execution_count": 69,
   "metadata": {},
   "outputs": [
    {
     "data": {
      "image/png": "[encoded data removed]",
      "text/plain": [
       "<Figure size 600x400 with 1 Axes>"
      ]
     },
     "metadata": {},
     "output_type": "display_data"
    }
   ],
   "source": [
    "plt.figure(figsize=(6, 4))\n",
    "\n",
    "bars = sns.barplot(\n",
    "    x=\"gender_recode\", y=\"proportion\", data=counts_df, capsize=0.2, palette=\"Set2\"\n",
    ")\n",
    "\n",
    "ci_bar(counts_df, group=\"gender_recode\")\n",
    " \n",
    "for index, row in counts_df.iterrows():\n",
    "    bars.text(\n",
    "        index + 0.1,\n",
    "        row[\"proportion\"],\n",
    "        f\"{row['proportion']:.1%}\",\n",
    "        color=\"black\",\n",
    "        ha=\"left\",\n",
    "        va=\"bottom\",\n",
    "        fontweight=\"bold\",\n",
    "        fontsize=11,\n",
    "    )\n",
    "\n",
    "plt.title(\"Prevalence of Mood Disorder by Gender\", fontsize=14)\n",
    "plt.ylabel(\"Prevalence Proportion\")\n",
    "plt.ylim(0, 1)\n",
    "plt.xlabel(\"\")\n",
    "\n",
    "for spine in bars.spines.values():\n",
    "    spine.set_visible(False)\n",
    "bars.spines[\"bottom\"].set_visible(True)\n",
    "bars.spines[\"left\"].set_visible(True)\n",
    "\n",
    "plt.tight_layout()\n",
    "plt.show()"
   ]
  },
  {
   "cell_type": "markdown",
   "metadata": {},
   "source": [
    "The bar chart above shows that males have the lowest prevalence rate for this mental health disorder diagnosed and the small confidence intervall provides high certainty for this finding. The females in contrast have a significantly higher prevalence rate. This follows other studies saying that \"[the prevalence of mood disorders in a given year was higher for females than males](https://www.therecoveryvillage.com/mental-health/mood-disorders/mood-disorders-statistics/)\" (though with lower values). The highest rate shows the non-binary group with a center of 65% but a large uncertainty due to a wide confidence intervall."
   ]
  },
  {
   "cell_type": "markdown",
   "metadata": {},
   "source": [
    "#### 6.2.2. <a id='toc6_2_2_'></a>[Anxiety disorder](#toc0_)"
   ]
  },
  {
   "cell_type": "markdown",
   "metadata": {},
   "source": [
    "We have a quick look at the observations of diagnosed *Anxiety disorder* in each gender group:"
   ]
  },
  {
   "cell_type": "code",
   "execution_count": 70,
   "metadata": {},
   "outputs": [
    {
     "data": {
      "text/html": [
       "<div>\n",
       "<style scoped>\n",
       "    .dataframe tbody tr th:only-of-type {\n",
       "        vertical-align: middle;\n",
       "    }\n",
       "\n",
       "    .dataframe tbody tr th {\n",
       "        vertical-align: top;\n",
       "    }\n",
       "\n",
       "    .dataframe thead th {\n",
       "        text-align: right;\n",
       "    }\n",
       "</style>\n",
       "<table border=\"1\" class=\"dataframe\">\n",
       "  <thead>\n",
       "    <tr style=\"text-align: right;\">\n",
       "      <th>15_anxiety_disorder</th>\n",
       "      <th>no</th>\n",
       "      <th>yes</th>\n",
       "      <th>All</th>\n",
       "    </tr>\n",
       "    <tr>\n",
       "      <th>gender_recode</th>\n",
       "      <th></th>\n",
       "      <th></th>\n",
       "      <th></th>\n",
       "    </tr>\n",
       "  </thead>\n",
       "  <tbody>\n",
       "    <tr>\n",
       "      <th>female</th>\n",
       "      <td>218</td>\n",
       "      <td>115</td>\n",
       "      <td>333</td>\n",
       "    </tr>\n",
       "    <tr>\n",
       "      <th>male</th>\n",
       "      <td>838</td>\n",
       "      <td>213</td>\n",
       "      <td>1051</td>\n",
       "    </tr>\n",
       "    <tr>\n",
       "      <th>non-binary</th>\n",
       "      <td>9</td>\n",
       "      <td>8</td>\n",
       "      <td>17</td>\n",
       "    </tr>\n",
       "    <tr>\n",
       "      <th>other</th>\n",
       "      <td>10</td>\n",
       "      <td>4</td>\n",
       "      <td>14</td>\n",
       "    </tr>\n",
       "    <tr>\n",
       "      <th>All</th>\n",
       "      <td>1075</td>\n",
       "      <td>340</td>\n",
       "      <td>1415</td>\n",
       "    </tr>\n",
       "  </tbody>\n",
       "</table>\n",
       "</div>"
      ],
      "text/plain": [
       "15_anxiety_disorder    no  yes   All\n",
       "gender_recode                       \n",
       "female                218  115   333\n",
       "male                  838  213  1051\n",
       "non-binary              9    8    17\n",
       "other                  10    4    14\n",
       "All                  1075  340  1415"
      ]
     },
     "execution_count": 70,
     "metadata": {},
     "output_type": "execute_result"
    }
   ],
   "source": [
    "pd.crosstab(\n",
    "    df_2016[\"gender_recode\"],\n",
    "    df_2016[\"15_anxiety_disorder\"],\n",
    "    margins=True,\n",
    ")"
   ]
  },
  {
   "cell_type": "code",
   "execution_count": 71,
   "metadata": {},
   "outputs": [
    {
     "data": {
      "text/html": [
       "<div>\n",
       "<style scoped>\n",
       "    .dataframe tbody tr th:only-of-type {\n",
       "        vertical-align: middle;\n",
       "    }\n",
       "\n",
       "    .dataframe tbody tr th {\n",
       "        vertical-align: top;\n",
       "    }\n",
       "\n",
       "    .dataframe thead th {\n",
       "        text-align: right;\n",
       "    }\n",
       "</style>\n",
       "<table border=\"1\" class=\"dataframe\">\n",
       "  <thead>\n",
       "    <tr style=\"text-align: right;\">\n",
       "      <th></th>\n",
       "      <th>gender_recode</th>\n",
       "      <th>proportion</th>\n",
       "      <th>se</th>\n",
       "      <th>ci_upper</th>\n",
       "      <th>ci_lower</th>\n",
       "    </tr>\n",
       "  </thead>\n",
       "  <tbody>\n",
       "    <tr>\n",
       "      <th>0</th>\n",
       "      <td>female</td>\n",
       "      <td>0.345345</td>\n",
       "      <td>0.026056</td>\n",
       "      <td>0.396415</td>\n",
       "      <td>0.294275</td>\n",
       "    </tr>\n",
       "    <tr>\n",
       "      <th>1</th>\n",
       "      <td>male</td>\n",
       "      <td>0.202664</td>\n",
       "      <td>0.012400</td>\n",
       "      <td>0.226967</td>\n",
       "      <td>0.178361</td>\n",
       "    </tr>\n",
       "    <tr>\n",
       "      <th>2</th>\n",
       "      <td>non-binary</td>\n",
       "      <td>0.470588</td>\n",
       "      <td>0.121058</td>\n",
       "      <td>0.707862</td>\n",
       "      <td>0.233315</td>\n",
       "    </tr>\n",
       "    <tr>\n",
       "      <th>3</th>\n",
       "      <td>other</td>\n",
       "      <td>0.285714</td>\n",
       "      <td>0.120736</td>\n",
       "      <td>0.522357</td>\n",
       "      <td>0.049071</td>\n",
       "    </tr>\n",
       "  </tbody>\n",
       "</table>\n",
       "</div>"
      ],
      "text/plain": [
       "  gender_recode  proportion        se  ci_upper  ci_lower\n",
       "0        female    0.345345  0.026056  0.396415  0.294275\n",
       "1          male    0.202664  0.012400  0.226967  0.178361\n",
       "2    non-binary    0.470588  0.121058  0.707862  0.233315\n",
       "3         other    0.285714  0.120736  0.522357  0.049071"
      ]
     },
     "execution_count": 71,
     "metadata": {},
     "output_type": "execute_result"
    }
   ],
   "source": [
    "counts = (\n",
    "    df_2016.groupby(\"gender_recode\")[\"15_anxiety_disorder\"]\n",
    "    .value_counts(normalize=True)\n",
    "    .unstack(fill_value=0)[\"yes\"]\n",
    ")\n",
    "\n",
    "counts_df = counts.reset_index()\n",
    "counts_df.columns = [\"gender_recode\", \"proportion\"]\n",
    "\n",
    "n = df_2016.groupby(\"gender_recode\")[\"15_anxiety_disorder\"].count()\n",
    "\n",
    "counts_df[\"se\"] = np.sqrt(\n",
    "    (counts_df[\"proportion\"]) * (1 - counts_df[\"proportion\"]) / n.values\n",
    ")\n",
    "counts_df[\"ci_upper\"] = counts_df[\"proportion\"] + 1.96 * counts_df[\"se\"]\n",
    "counts_df[\"ci_lower\"] = counts_df[\"proportion\"] - 1.96 * counts_df[\"se\"]\n",
    "\n",
    "counts_df"
   ]
  },
  {
   "cell_type": "code",
   "execution_count": 72,
   "metadata": {},
   "outputs": [
    {
     "data": {
      "image/png": "[encoded data removed]",
      "text/plain": [
       "<Figure size 600x400 with 1 Axes>"
      ]
     },
     "metadata": {},
     "output_type": "display_data"
    }
   ],
   "source": [
    "plt.figure(figsize=(6, 4))\n",
    "\n",
    "bars = sns.barplot(\n",
    "    x=\"gender_recode\", y=\"proportion\", data=counts_df, capsize=0.2, palette=\"Set2\"\n",
    ")\n",
    "\n",
    "ci_bar(counts_df, group=\"gender_recode\")\n",
    " \n",
    "for index, row in counts_df.iterrows():\n",
    "    bars.text(\n",
    "        index + 0.1,\n",
    "        row[\"proportion\"],\n",
    "        f\"{row['proportion']:.1%}\",\n",
    "        color=\"black\",\n",
    "        ha=\"left\",\n",
    "        va=\"bottom\",\n",
    "        fontweight=\"bold\",\n",
    "        fontsize=11,\n",
    "    )\n",
    "\n",
    "plt.title(\"Prevalence of Anxiety Disorder by Gender\", fontsize=14)\n",
    "plt.ylabel(\"Prevalence Proportion\")\n",
    "plt.ylim(0, 1)\n",
    "plt.xlabel(\"\")\n",
    "\n",
    "for spine in bars.spines.values():\n",
    "    spine.set_visible(False)\n",
    "bars.spines[\"bottom\"].set_visible(True)\n",
    "bars.spines[\"left\"].set_visible(True)\n",
    "\n",
    "plt.tight_layout()\n",
    "plt.show()"
   ]
  },
  {
   "cell_type": "markdown",
   "metadata": {},
   "source": [
    "The prevalence rates of Anxiety Disorder by Gender, as seen in the bar chart above, shows a rather similar picture as for the Mood Disorder: Males have a signifcantly lower rate than females and the highest is among the non-binary people. This follows [other studies' findings](https://adaa.org/find-help-for/women/anxiety#:~:text=An%20estimated%20264%20million%20people,than%20for%20males%20(14.3%25).). However, this occurs on a lower rate level than for Mood Disorder and all prevalance rates are closer to each other."
   ]
  },
  {
   "cell_type": "markdown",
   "metadata": {},
   "source": [
    "#### 6.2.3. <a id='toc6_2_3_'></a>[Attention Deficit Hyperactivity Disorder](#toc0_)"
   ]
  },
  {
   "cell_type": "markdown",
   "metadata": {},
   "source": [
    "We have a quick look at the observations of diagnosed *ADHD* in each gender group:"
   ]
  },
  {
   "cell_type": "code",
   "execution_count": 73,
   "metadata": {},
   "outputs": [
    {
     "data": {
      "text/html": [
       "<div>\n",
       "<style scoped>\n",
       "    .dataframe tbody tr th:only-of-type {\n",
       "        vertical-align: middle;\n",
       "    }\n",
       "\n",
       "    .dataframe tbody tr th {\n",
       "        vertical-align: top;\n",
       "    }\n",
       "\n",
       "    .dataframe thead th {\n",
       "        text-align: right;\n",
       "    }\n",
       "</style>\n",
       "<table border=\"1\" class=\"dataframe\">\n",
       "  <thead>\n",
       "    <tr style=\"text-align: right;\">\n",
       "      <th>15_adhd</th>\n",
       "      <th>no</th>\n",
       "      <th>yes</th>\n",
       "      <th>All</th>\n",
       "    </tr>\n",
       "    <tr>\n",
       "      <th>gender_recode</th>\n",
       "      <th></th>\n",
       "      <th></th>\n",
       "      <th></th>\n",
       "    </tr>\n",
       "  </thead>\n",
       "  <tbody>\n",
       "    <tr>\n",
       "      <th>female</th>\n",
       "      <td>294</td>\n",
       "      <td>39</td>\n",
       "      <td>333</td>\n",
       "    </tr>\n",
       "    <tr>\n",
       "      <th>male</th>\n",
       "      <td>975</td>\n",
       "      <td>76</td>\n",
       "      <td>1051</td>\n",
       "    </tr>\n",
       "    <tr>\n",
       "      <th>non-binary</th>\n",
       "      <td>15</td>\n",
       "      <td>2</td>\n",
       "      <td>17</td>\n",
       "    </tr>\n",
       "    <tr>\n",
       "      <th>other</th>\n",
       "      <td>11</td>\n",
       "      <td>3</td>\n",
       "      <td>14</td>\n",
       "    </tr>\n",
       "    <tr>\n",
       "      <th>All</th>\n",
       "      <td>1295</td>\n",
       "      <td>120</td>\n",
       "      <td>1415</td>\n",
       "    </tr>\n",
       "  </tbody>\n",
       "</table>\n",
       "</div>"
      ],
      "text/plain": [
       "15_adhd          no  yes   All\n",
       "gender_recode                 \n",
       "female          294   39   333\n",
       "male            975   76  1051\n",
       "non-binary       15    2    17\n",
       "other            11    3    14\n",
       "All            1295  120  1415"
      ]
     },
     "execution_count": 73,
     "metadata": {},
     "output_type": "execute_result"
    }
   ],
   "source": [
    "pd.crosstab(\n",
    "    df_2016[\"gender_recode\"],\n",
    "    df_2016[\"15_adhd\"],\n",
    "    margins=True,\n",
    ")"
   ]
  },
  {
   "cell_type": "code",
   "execution_count": 74,
   "metadata": {},
   "outputs": [
    {
     "data": {
      "text/html": [
       "<div>\n",
       "<style scoped>\n",
       "    .dataframe tbody tr th:only-of-type {\n",
       "        vertical-align: middle;\n",
       "    }\n",
       "\n",
       "    .dataframe tbody tr th {\n",
       "        vertical-align: top;\n",
       "    }\n",
       "\n",
       "    .dataframe thead th {\n",
       "        text-align: right;\n",
       "    }\n",
       "</style>\n",
       "<table border=\"1\" class=\"dataframe\">\n",
       "  <thead>\n",
       "    <tr style=\"text-align: right;\">\n",
       "      <th></th>\n",
       "      <th>gender_recode</th>\n",
       "      <th>proportion</th>\n",
       "      <th>se</th>\n",
       "      <th>ci_upper</th>\n",
       "      <th>ci_lower</th>\n",
       "    </tr>\n",
       "  </thead>\n",
       "  <tbody>\n",
       "    <tr>\n",
       "      <th>0</th>\n",
       "      <td>female</td>\n",
       "      <td>0.117117</td>\n",
       "      <td>0.017621</td>\n",
       "      <td>0.151655</td>\n",
       "      <td>0.082579</td>\n",
       "    </tr>\n",
       "    <tr>\n",
       "      <th>1</th>\n",
       "      <td>male</td>\n",
       "      <td>0.072312</td>\n",
       "      <td>0.007989</td>\n",
       "      <td>0.087971</td>\n",
       "      <td>0.056653</td>\n",
       "    </tr>\n",
       "    <tr>\n",
       "      <th>2</th>\n",
       "      <td>non-binary</td>\n",
       "      <td>0.117647</td>\n",
       "      <td>0.078142</td>\n",
       "      <td>0.270806</td>\n",
       "      <td>-0.035512</td>\n",
       "    </tr>\n",
       "    <tr>\n",
       "      <th>3</th>\n",
       "      <td>other</td>\n",
       "      <td>0.214286</td>\n",
       "      <td>0.109664</td>\n",
       "      <td>0.429228</td>\n",
       "      <td>-0.000656</td>\n",
       "    </tr>\n",
       "  </tbody>\n",
       "</table>\n",
       "</div>"
      ],
      "text/plain": [
       "  gender_recode  proportion        se  ci_upper  ci_lower\n",
       "0        female    0.117117  0.017621  0.151655  0.082579\n",
       "1          male    0.072312  0.007989  0.087971  0.056653\n",
       "2    non-binary    0.117647  0.078142  0.270806 -0.035512\n",
       "3         other    0.214286  0.109664  0.429228 -0.000656"
      ]
     },
     "execution_count": 74,
     "metadata": {},
     "output_type": "execute_result"
    }
   ],
   "source": [
    "counts = (\n",
    "    df_2016.groupby(\"gender_recode\")[\"15_adhd\"]\n",
    "    .value_counts(normalize=True)\n",
    "    .unstack(fill_value=0)[\"yes\"]\n",
    ")\n",
    "\n",
    "counts_df = counts.reset_index()\n",
    "counts_df.columns = [\"gender_recode\", \"proportion\"]\n",
    "\n",
    "n = df_2016.groupby(\"gender_recode\")[\"15_adhd\"].count()\n",
    "\n",
    "counts_df[\"se\"] = np.sqrt(\n",
    "    (counts_df[\"proportion\"]) * (1 - counts_df[\"proportion\"]) / n.values\n",
    ")\n",
    "counts_df[\"ci_upper\"] = counts_df[\"proportion\"] + 1.96 * counts_df[\"se\"]\n",
    "counts_df[\"ci_lower\"] = counts_df[\"proportion\"] - 1.96 * counts_df[\"se\"]\n",
    "\n",
    "counts_df"
   ]
  },
  {
   "cell_type": "code",
   "execution_count": 75,
   "metadata": {},
   "outputs": [
    {
     "data": {
      "image/png": "[encoded data removed]",
      "text/plain": [
       "<Figure size 600x400 with 1 Axes>"
      ]
     },
     "metadata": {},
     "output_type": "display_data"
    }
   ],
   "source": [
    "plt.figure(figsize=(6, 4))\n",
    "\n",
    "bars = sns.barplot(\n",
    "    x=\"gender_recode\", y=\"proportion\", data=counts_df, capsize=0.2, palette=\"Set2\"\n",
    ")\n",
    "\n",
    "ci_bar(counts_df, group=\"gender_recode\")\n",
    "\n",
    "for index, row in counts_df.iterrows():\n",
    "    bars.text(\n",
    "        index + 0.1,\n",
    "        row[\"proportion\"],\n",
    "        f\"{row['proportion']:.1%}\",\n",
    "        color=\"black\",\n",
    "        ha=\"left\",\n",
    "        va=\"bottom\",\n",
    "        fontweight=\"bold\",\n",
    "        fontsize=11,\n",
    "    )\n",
    "\n",
    "plt.title(\"Prevalence of ADHD Disorder by Gender\", fontsize=14)\n",
    "plt.ylabel(\"Prevalence Proportion\")\n",
    "plt.ylim(0, 1)\n",
    "plt.xlabel(\"\")\n",
    "\n",
    "for spine in bars.spines.values():\n",
    "    spine.set_visible(False)\n",
    "bars.spines[\"bottom\"].set_visible(True)\n",
    "bars.spines[\"left\"].set_visible(True)\n",
    "\n",
    "plt.tight_layout()\n",
    "plt.show()"
   ]
  },
  {
   "cell_type": "markdown",
   "metadata": {},
   "source": [
    "The prevalence rates of ADHD by Gender, as seen in the bar chart above, differs slightly from the patterns of gender differences seen for the other two major mental health disorders. Males still have a lower rate than females, though, but it is not significant anymore (see the overlap between the errorbars for males and females). The highest prevalence rate is among those did not reveal their gender or mentioning Other. \n",
    "\n",
    "[Other studies](https://psychcentral.com/adhd/adhd-and-gender#prevalence) suggest that males have a higher prevalence rate for ADHD but claim that there might be underlying gender bias: \"A 2019 study suggests that ADHD diagnosis may be more easily missed among females during the diagnostic process. Females are also less likely to be prescribed medication and receive a diagnosis because they don’t typically display the disruptive external symptoms associated with ADHD.\"\n",
    "\n"
   ]
  },
  {
   "cell_type": "markdown",
   "metadata": {},
   "source": [
    "## 7. <a id='toc7_'></a>[Suggestions for further research](#toc0_)"
   ]
  },
  {
   "cell_type": "markdown",
   "metadata": {},
   "source": [
    "### 7.1. <a id='toc7_1_'></a>[Awareness of mental health disorders in the public](#toc0_)"
   ]
  },
  {
   "cell_type": "markdown",
   "metadata": {},
   "source": [
    "The findings described in the summary of the mental healt disorder analysis (4.2.6.) can give an indication about a phenomenon that we could only analyse in future research: Perhaps mental health disorders have been widely more recognized in the public discourse in recent years and consequently the people, who are facing them, are seeking more often professional treatment. This is supported by the few time analysis charts (in 4.2.), showing that the share of those, who currently have a mental health disorder, is rather stable over time. On the other hand, the share of those seeking professional treatment slightly increased. The findings must be evaluated with trends in the overall population."
   ]
  },
  {
   "cell_type": "markdown",
   "metadata": {},
   "source": [
    "### 7.2. <a id='toc7_2_'></a>[Mental health disorders by Age and their impact](#toc0_)"
   ]
  },
  {
   "cell_type": "markdown",
   "metadata": {},
   "source": [
    "The analysis on the prevalence rate of particular mental diseases could be expanded. For example diseases with a significant higher rate for males than females could be identified and further studied. This would have relevance since the data suggests that the majority of people in the target population are still males.\n",
    "\n",
    "Moreover the slow \"aging\" of the target population (slightly increasing average age of the target population) could be starting point to ask for differences in the prevalence rate for particular age groups.\n",
    "\n",
    "Subsequently, we could study the different impacts of particular health disorders, how they interfere with the work (questions 44 and 45 in the dataset) as well as the impact on the work productivity (questions 54 and 55 in the dataset). "
   ]
  },
  {
   "cell_type": "markdown",
   "metadata": {},
   "source": [
    "## 8. <a id='toc8_'></a>[Summary](#toc0_)"
   ]
  },
  {
   "cell_type": "markdown",
   "metadata": {},
   "source": [
    "**Respondent structure** \n",
    "\n",
    "The dataset captures insights from a diverse pool of tech industry professionals who have shared their experiences with mental health. The following are the key demographics examined in the analysis:\n",
    "\n",
    "- ***Survey Years and Sample Sizes***: There is significant variation in sample sizes across survey years, ranging from several hundred to over a thousand respondents. This variability impacts the generalizability of year-to-year comparisons.\n",
    "\n",
    "- ***Age***: The majority of respondents are in their 20s and 30s, but notable outliers include individuals as old as 53 or elder. The wide age range introduces the potential for generational differences in mental health experiences.\n",
    "\n",
    "- ***Gender***: The dataset predominantly includes male respondents, with a smaller but important representation of females and non-binary individuals. The gender distribution reveals potential areas for gender-specific analyses, particularly in mental health treatment.\n",
    "\n",
    "- ***Country of Residence***: Respondents come from a wide range of countries, but the data is heavily skewed toward North America and UK, limiting the global representativeness.\n",
    "\n",
    "- ***Self-Employment***: A significant portion of respondents are self-employed, which could highlight distinct challenges in accessing mental health support compared to traditionally employed individuals.\n",
    "\n",
    "The respondent overview provides a foundation for understanding the various demographic factors that contribute to the prevalence of mental health conditions in the tech sector, guiding further analysis."
   ]
  },
  {
   "cell_type": "markdown",
   "metadata": {},
   "source": [
    "**Analysis** \n",
    "\n",
    "The analysis of diagnosed mental health conditions over time reveals that the distribution of diagnoses varies significantly across the survey years. While some fluctuations in diagnoses may be influenced by external societal factors, a gradual increase in reported mental health conditions is observed. Moreover, a deeper analysis suggests gender differences in mental health diagnoses, with higher rates among women in the dataset. These findings highlight the need for tailored mental health support strategies in the tech industry.\n",
    "\n",
    "The analysis of the prevalence rates of mental health disorders show that the estimates in this sample population somewhat follow figures in the overall population. The three methal health disorders diagnosed are Mood Disorder, Anxiety Disorder, and ADHD. However, the results also reveal i.e. significant gender differences in those specific conditions. Women reported higher rates of mood and anxiety disorders compared to men, while ADHD showed less gender disparity. These insights highlight how mental health challenges manifest differently across genders, which can be critical for developing gender-sensitive mental health interventions. Understanding these variations is essential for creating tailored support systems in the tech industry."
   ]
  },
  {
   "cell_type": "markdown",
   "metadata": {},
   "source": [
    "These findings are once more summaried here briefly:\n",
    "\n",
    "- ***Diagnosed mental health conditions vary across survey years***: A gradual increase in reported mental health conditions is observed over time.\n",
    "  \n",
    "- ***Gender differences in mental health diagnoses***:\n",
    "  - Women report higher rates of diagnosed mental health conditions compared to men.\n",
    "  - Mood and anxiety disorders are more prevalent among women.\n",
    "  - ADHD shows less gender disparity compared to mood and anxiety disorders.\n",
    "\n",
    "- ***Prevalence rates of mental health disorders***:\n",
    "  - The sample population follows similar trends to the overall (US national) population in terms of diagnosed mental health disorders.\n",
    "  - The three most common diagnosed conditions are Mood Disorder, Anxiety Disorder, and ADHD.\n",
    "\n",
    "This summary underscores the importance of understanding gender differences and trends over time to develop effective support systems for mental health in the tech sector."
   ]
  },
  {
   "cell_type": "markdown",
   "metadata": {},
   "source": [
    "**Limitations** \n",
    "\n",
    "A balanced evaluation is required in order to be able to properly assess those findings, because we need to recall the multiple limitations already mentioned (2.1.4.). There is the survey design that might attract an audience who is very interested in this research subject or at least those who see particular personal relevance in it. Most likely among them is also a higher share sensible to the topic of mental health disorders and among those consequently more people facing them. This situation is called *Voluntary response bias*, when the sample is made of people who have volunteered to take part in the survey. This can additionally result in a study that overreports on one aspect as it's more likely to have a *highly opinionated sample*. Consequently, this survey design and its data collection procedure via a voluntary sampling involves such risk of being affected by a response bias.\n",
    "\n",
    "Moreover, with the non-probability sampling design and the absence of further strategies to calibrate the survey distribution, any generalizations for the particular target population cannot be justified. **All findings are only limited to this particular sample population**. Evidence for sampling bias was observed by analyzing the respondent overview (4.1.) during the EDA. Firstly, the dataset is unevenly distributed across the survey years. This leads to a bias when examining the dataset as a whole. Therefore all analyses performed in this project involve procedures to counter this bias (prior cross-check for differences across survey years and separate analysis). On the other hand, no evidence for sampling bias could be found in the age and gender distribution. The geographical location of the respondents, however, reveals a particular strong bias.\n",
    "\n",
    "\n",
    " "
   ]
  }
 ],
 "metadata": {
  "kernelspec": {
   "display_name": "health_venv",
   "language": "python",
   "name": "python3"
  },
  "language_info": {
   "codemirror_mode": {
    "name": "ipython",
    "version": 3
   },
   "file_extension": ".py",
   "mimetype": "text/x-python",
   "name": "python",
   "nbconvert_exporter": "python",
   "pygments_lexer": "ipython3",
   "version": "3.12.4"
  }
 },
 "nbformat": 4,
 "nbformat_minor": 2
}
